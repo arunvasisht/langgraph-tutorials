{
 "cells": [
  {
   "cell_type": "code",
   "execution_count": 2,
   "metadata": {},
   "outputs": [
    {
     "name": "stderr",
     "output_type": "stream",
     "text": [
      "c:\\Users\\Arun\\miniconda3\\envs\\langgraph\\Lib\\site-packages\\tqdm\\auto.py:21: TqdmWarning: IProgress not found. Please update jupyter and ipywidgets. See https://ipywidgets.readthedocs.io/en/stable/user_install.html\n",
      "  from .autonotebook import tqdm as notebook_tqdm\n"
     ]
    },
    {
     "data": {
      "text/plain": [
       "True"
      ]
     },
     "execution_count": 2,
     "metadata": {},
     "output_type": "execute_result"
    }
   ],
   "source": [
    "from langgraph.graph import StateGraph, START, END\n",
    "from typing_extensions import TypedDict\n",
    "from IPython.display import display, Image\n",
    "from langchain_google_genai import ChatGoogleGenerativeAI\n",
    "from langchain_core.messages import HumanMessage, AIMessage\n",
    "from langgraph.graph.message import MessagesState\n",
    "from dotenv import load_dotenv\n",
    "\n",
    "load_dotenv()"
   ]
  },
  {
   "cell_type": "code",
   "execution_count": 3,
   "metadata": {},
   "outputs": [
    {
     "data": {
      "text/plain": [
       "AIMessage(content='Hi there! How can I help you today?', additional_kwargs={}, response_metadata={'prompt_feedback': {'block_reason': 0, 'safety_ratings': []}, 'finish_reason': 'STOP', 'safety_ratings': []}, id='run-9b302da1-63cb-4d37-96d8-6575cb022efb-0', usage_metadata={'input_tokens': 2, 'output_tokens': 11, 'total_tokens': 13, 'input_token_details': {'cache_read': 0}})"
      ]
     },
     "execution_count": 3,
     "metadata": {},
     "output_type": "execute_result"
    }
   ],
   "source": [
    "llm = ChatGoogleGenerativeAI(model=\"gemini-1.5-flash\")\n",
    "llm.invoke(\"Hi\")"
   ]
  },
  {
   "cell_type": "code",
   "execution_count": 4,
   "metadata": {},
   "outputs": [],
   "source": [
    "def chat_node(state:MessagesState):\n",
    "    return {\"messages\":llm.invoke(state[\"messages\"])}\n"
   ]
  },
  {
   "cell_type": "code",
   "execution_count": 5,
   "metadata": {},
   "outputs": [],
   "source": [
    "builder = StateGraph(MessagesState)\n",
    "\n",
    "builder.add_node(\"chat_node\",chat_node)\n",
    "\n",
    "builder.add_edge(START,\"chat_node\")\n",
    "builder.add_edge(\"chat_node\",END)\n",
    "\n",
    "graph = builder.compile()"
   ]
  },
  {
   "cell_type": "code",
   "execution_count": 6,
   "metadata": {},
   "outputs": [
    {
     "data": {
      "text/plain": [
       "[HumanMessage(content='Hi', additional_kwargs={}, response_metadata={}, name='Arun'),\n",
       " AIMessage(content='Hi Arun, How can I help today?', additional_kwargs={}, response_metadata={}, name='Bot'),\n",
       " HumanMessage(content='Write a 300 word essay on Radioactivity', additional_kwargs={}, response_metadata={}, name='Arun')]"
      ]
     },
     "execution_count": 6,
     "metadata": {},
     "output_type": "execute_result"
    }
   ],
   "source": [
    "messages = [\n",
    "    HumanMessage(content=\"Hi\", name=\"Arun\"),\n",
    "    AIMessage(content=\"Hi Arun, How can I help today?\", name=\"Bot\"),\n",
    "    HumanMessage(content=\"Write a 300 word essay on Radioactivity\", name=\"Arun\")\n",
    "]\n",
    "\n",
    "messages"
   ]
  },
  {
   "cell_type": "code",
   "execution_count": 7,
   "metadata": {},
   "outputs": [
    {
     "data": {
      "text/plain": [
       "{'messages': [HumanMessage(content='Hi', additional_kwargs={}, response_metadata={}, name='Arun', id='1f184dca-98cb-4559-91b1-b817de12ba48'),\n",
       "  AIMessage(content='Hi Arun, How can I help today?', additional_kwargs={}, response_metadata={}, name='Bot', id='0c62938c-04a7-4841-a43b-d9b2e551b0d0'),\n",
       "  HumanMessage(content='Write a 300 word essay on Radioactivity', additional_kwargs={}, response_metadata={}, name='Arun', id='5b033575-bc00-4194-b58b-253a0e809395'),\n",
       "  AIMessage(content=\"Radioactivity, the spontaneous emission of radiation from the nucleus of an unstable atom, is a fundamental phenomenon with profound implications for science, technology, and society.  This instability arises from an imbalance in the nucleus's protons and neutrons, leading to the emission of particles or energy to achieve a more stable configuration.  This process transforms the original atom into a different isotope or element, a process known as radioactive decay.\\n\\nSeveral types of radiation are emitted during radioactive decay. Alpha particles, consisting of two protons and two neutrons, are relatively massive and easily stopped by a sheet of paper. Beta particles, high-energy electrons or positrons, are more penetrating and require thicker materials like aluminum for shielding. Gamma rays, high-energy electromagnetic radiation, are the most penetrating and require dense materials like lead or concrete for effective shielding.  The type and energy of radiation emitted are characteristic of the specific radioactive isotope.\\n\\nThe rate of radioactive decay is quantified by the half-life, the time it takes for half of the atoms in a sample to decay. Half-lives vary enormously, from fractions of a second to billions of years, depending on the isotope. This property allows scientists to use radioactive isotopes for dating ancient artifacts (carbon-14 dating) and geological formations (uranium-lead dating).\\n\\nRadioactivity's applications are widespread. In medicine, radioactive isotopes are used in diagnostic imaging (PET scans) and cancer therapy (radiotherapy).  In industry, they are employed in gauging the thickness of materials and sterilizing medical equipment.  However, the ionizing nature of radiation poses significant health risks, causing cellular damage and potentially leading to cancer.  Therefore, handling radioactive materials requires strict safety protocols and protective measures to minimize exposure.  The responsible use and disposal of radioactive waste remain crucial challenges in managing the benefits and risks associated with this powerful phenomenon.\", additional_kwargs={}, response_metadata={'prompt_feedback': {'block_reason': 0, 'safety_ratings': []}, 'finish_reason': 'STOP', 'safety_ratings': []}, id='run-4842ef49-eea4-469d-9647-144e67b24e61-0', usage_metadata={'input_tokens': 24, 'output_tokens': 374, 'total_tokens': 398, 'input_token_details': {'cache_read': 0}})]}"
      ]
     },
     "execution_count": 7,
     "metadata": {},
     "output_type": "execute_result"
    }
   ],
   "source": [
    "graph.invoke({\"messages\":messages})"
   ]
  },
  {
   "cell_type": "markdown",
   "metadata": {},
   "source": [
    "### Streaming Updates Only"
   ]
  },
  {
   "cell_type": "code",
   "execution_count": 8,
   "metadata": {},
   "outputs": [
    {
     "name": "stdout",
     "output_type": "stream",
     "text": [
      "==================================\u001b[1m Ai Message \u001b[0m==================================\n",
      "\n",
      "Radioactivity, the spontaneous emission of radiation from the nucleus of an unstable atom, is a fundamental phenomenon with profound implications for science, technology, and society.  This instability arises from an imbalance in the nucleus's composition of protons and neutrons, leading to the emission of particles or energy in an attempt to achieve a more stable configuration.  This process transforms the original atom into a different element or isotope.\n",
      "\n",
      "Three primary types of radiation are emitted during radioactive decay: alpha, beta, and gamma radiation. Alpha particles consist of two protons and two neutrons, essentially a helium nucleus, and are relatively easily stopped by a sheet of paper. Beta particles are high-energy electrons or positrons, possessing greater penetrating power than alpha particles, requiring thicker materials like aluminum for shielding. Gamma rays are electromagnetic radiation, the most penetrating form, requiring dense materials like lead or concrete for effective shielding.\n",
      "\n",
      "The rate of radioactive decay is characterized by a half-life, the time it takes for half of the radioactive atoms in a sample to decay.  Half-lives vary enormously, ranging from fractions of a second to billions of years. This property is crucial in various applications, from radiometric dating to medical treatments.  Radioactive isotopes with short half-lives are used in medical imaging techniques like PET scans, where their rapid decay allows for quick visualization of biological processes.  Conversely, isotopes with long half-lives, like uranium-238, are utilized in geological dating to determine the age of rocks and fossils.\n",
      "\n",
      "Radioactivity, while a powerful tool, also presents significant challenges.  Exposure to high levels of ionizing radiation can cause severe health problems, including radiation sickness and an increased risk of cancer.  The safe handling and disposal of radioactive materials are crucial concerns, requiring stringent regulations and specialized facilities to minimize environmental and human risks.  Despite these risks, the benefits of radioactivity in medicine, energy production (nuclear power), and scientific research are undeniable, highlighting the need for responsible and informed application of this powerful natural phenomenon.\n"
     ]
    }
   ],
   "source": [
    "for chunk in graph.stream({\"messages\":messages}, stream_mode=\"updates\"):\n",
    "    chunk[\"chat_node\"][\"messages\"].pretty_print()"
   ]
  },
  {
   "cell_type": "markdown",
   "metadata": {},
   "source": [
    "### Streaming Full State"
   ]
  },
  {
   "cell_type": "code",
   "execution_count": 9,
   "metadata": {},
   "outputs": [
    {
     "name": "stdout",
     "output_type": "stream",
     "text": [
      "================================\u001b[1m Human Message \u001b[0m=================================\n",
      "Name: Arun\n",
      "\n",
      "Hi\n",
      "==================================\u001b[1m Ai Message \u001b[0m==================================\n",
      "Name: Bot\n",
      "\n",
      "Hi Arun, How can I help today?\n",
      "================================\u001b[1m Human Message \u001b[0m=================================\n",
      "Name: Arun\n",
      "\n",
      "Write a 300 word essay on Radioactivity\n",
      "================================\u001b[1m Human Message \u001b[0m=================================\n",
      "Name: Arun\n",
      "\n",
      "Hi\n",
      "==================================\u001b[1m Ai Message \u001b[0m==================================\n",
      "Name: Bot\n",
      "\n",
      "Hi Arun, How can I help today?\n",
      "================================\u001b[1m Human Message \u001b[0m=================================\n",
      "Name: Arun\n",
      "\n",
      "Write a 300 word essay on Radioactivity\n",
      "==================================\u001b[1m Ai Message \u001b[0m==================================\n",
      "\n",
      "Radioactivity, the spontaneous emission of radiation from the nucleus of an unstable atom, is a fundamental phenomenon with far-reaching implications.  This instability arises from an imbalance in the nucleus's protons and neutrons, driving it to achieve a more stable configuration. This process involves the release of energy in the form of ionizing radiation, which can be categorized into alpha, beta, and gamma radiation.\n",
      "\n",
      "Alpha particles, consisting of two protons and two neutrons, are relatively large and possess a high ionizing power but a low penetrating ability.  They can be stopped by a sheet of paper or even the skin. Beta particles, high-energy electrons or positrons, are smaller and more penetrating than alpha particles, requiring thicker materials like aluminum shielding.  Gamma rays, however, are electromagnetic radiation with no mass and extremely high penetrating power, requiring dense materials like lead or concrete for effective shielding.\n",
      "\n",
      "The discovery of radioactivity by Henri Becquerel revolutionized scientific understanding of matter and energy.  It revealed the existence of subatomic particles and the immense energy stored within the atom's nucleus.  This discovery laid the foundation for advancements in numerous fields, including medicine, industry, and research.\n",
      "\n",
      "In medicine, radioactive isotopes are used for diagnostic imaging (PET scans, SPECT scans) and radiotherapy, targeting cancerous cells with precisely delivered radiation.  Industrial applications include gauging material thickness, sterilizing medical equipment, and tracing the flow of fluids in pipelines.  Scientific research utilizes radioactive tracers to study biochemical processes, understand geological formations through radiometric dating, and probe the mysteries of the universe through astronomical observations.\n",
      "\n",
      "However, radioactivity also poses significant risks.  Exposure to ionizing radiation can cause cellular damage, leading to health problems like radiation sickness, cancer, and genetic mutations.  The management and disposal of radioactive waste requires stringent safety protocols to mitigate these risks.  Understanding the nature of radioactivity and its potential hazards is crucial for harnessing its benefits while minimizing its detrimental effects.\n"
     ]
    }
   ],
   "source": [
    "for chunk in graph.stream({\"messages\":messages}, stream_mode=\"values\"):\n",
    "    for m in chunk[\"messages\"]:\n",
    "        m.pretty_print()"
   ]
  },
  {
   "cell_type": "markdown",
   "metadata": {},
   "source": [
    "### Streaming Tokens"
   ]
  },
  {
   "cell_type": "code",
   "execution_count": 10,
   "metadata": {},
   "outputs": [
    {
     "name": "stdout",
     "output_type": "stream",
     "text": [
      "Radio|activity, the spontaneous emission of radiation from unstable atomic nuclei, is a fundamental phenomenon| with profound implications for science, technology, and society.  This instability arises from| an imbalance in the nucleus's protons and neutrons, driving it to achieve a more stable configuration through the emission of particles or energy.  This process, governed| by the weak nuclear force, results in the transformation of one element into another, a process known as radioactive decay.\n",
      "\n",
      "Several types of radiation are emitted during radioactive| decay. Alpha particles, consisting of two protons and two neutrons, are relatively large and easily stopped by a sheet of paper. Beta particles, high-energy electrons or positrons, are more penetrating and require thicker shielding, such as aluminum.| Gamma rays, high-energy electromagnetic radiation, are the most penetrating and require substantial shielding, like lead or concrete.  The type and energy of radiation emitted are characteristic of the specific radioactive isotope.\n",
      "\n",
      "The rate of radioactive decay is quantified by| the half-life, the time it takes for half of the atoms in a sample to decay. Half-lives vary enormously, from fractions of a second to billions of years.  This variability allows for diverse applications, from medical imaging using short-lived isotopes to geological dating using long-lived isotopes like carbon-1|4.\n",
      "\n",
      "Radioactivity has both beneficial and detrimental effects.  Medical applications include radiotherapy for cancer treatment, utilizing the destructive power of radiation to target cancerous cells.  Nuclear medicine also employs radioactive tracers for diagnostic imaging, providing crucial information about internal organs and processes.  Furthermore, radioactive isotopes are used in industrial applications,| such as gauging material thickness and sterilizing medical equipment.\n",
      "\n",
      "However, the ionizing nature of radiation poses significant health risks.  Exposure to high levels of radiation can cause cellular damage, leading to radiation sickness, cancer, and genetic mutations.  Safe handling and disposal of radioactive materials are crucial to mitigate these risks.  |The Chernobyl and Fukushima disasters serve as stark reminders of the potential consequences of uncontrolled radioactive releases.  Careful management and responsible use of radioactive materials are essential to harness its benefits while minimizing its hazards.|"
     ]
    }
   ],
   "source": [
    "async for event in graph.astream_events({\"messages\":messages}, version=\"v2\"):\n",
    "    if event[\"event\"] == \"on_chat_model_stream\" and event[\"metadata\"].get(\"langgraph_node\",\"\") == \"chat_node\":\n",
    "        data = event[\"data\"]\n",
    "        print(data[\"chunk\"].content, end=\"|\")"
   ]
  },
  {
   "cell_type": "code",
   "execution_count": null,
   "metadata": {},
   "outputs": [],
   "source": []
  }
 ],
 "metadata": {
  "kernelspec": {
   "display_name": "langgraph",
   "language": "python",
   "name": "python3"
  },
  "language_info": {
   "codemirror_mode": {
    "name": "ipython",
    "version": 3
   },
   "file_extension": ".py",
   "mimetype": "text/x-python",
   "name": "python",
   "nbconvert_exporter": "python",
   "pygments_lexer": "ipython3",
   "version": "3.13.1"
  }
 },
 "nbformat": 4,
 "nbformat_minor": 2
}
