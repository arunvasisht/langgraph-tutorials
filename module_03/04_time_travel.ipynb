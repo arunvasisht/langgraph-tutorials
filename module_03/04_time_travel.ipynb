{
 "cells": [
  {
   "cell_type": "markdown",
   "metadata": {},
   "source": [
    "**FORKING**\n",
    "\n",
    "In this notebook, we explore the concept of forking an already executed graph from a specific checkpoint and re-execute the same."
   ]
  },
  {
   "cell_type": "code",
   "execution_count": 5,
   "metadata": {},
   "outputs": [
    {
     "data": {
      "text/plain": [
       "True"
      ]
     },
     "execution_count": 5,
     "metadata": {},
     "output_type": "execute_result"
    }
   ],
   "source": [
    "from json import load\n",
    "from langgraph.graph import StateGraph, START, END\n",
    "from langgraph.checkpoint.memory import MemorySaver\n",
    "from langchain_core.messages import HumanMessage, AIMessage, SystemMessage\n",
    "from langgraph.graph.message import MessagesState\n",
    "from langgraph.prebuilt.tool_node import ToolNode, tools_condition\n",
    "from langchain_google_genai import ChatGoogleGenerativeAI\n",
    "from IPython.display import display, Image\n",
    "from dotenv import load_dotenv\n",
    "\n",
    "load_dotenv()"
   ]
  },
  {
   "cell_type": "code",
   "execution_count": 29,
   "metadata": {},
   "outputs": [],
   "source": [
    "def add(a:int, b:int) -> int:\n",
    "    \"\"\"\n",
    "    Adds two integer numbers\n",
    "\n",
    "    Args:\n",
    "        a (int): first integer\n",
    "        b (int): second integer\n",
    "\n",
    "    Returns:\n",
    "        int: sum of two input integers\n",
    "    \"\"\"\n",
    "    return a+b\n",
    "\n",
    "def multiply(a:int, b:int) -> int:\n",
    "    \"\"\"\n",
    "    Multiplies two integer numbers\n",
    "\n",
    "    Args:\n",
    "        a (int): first integer\n",
    "        b (int): second integer\n",
    "\n",
    "    Returns:\n",
    "        int: product of two input integers\n",
    "    \"\"\"\n",
    "    return a*b\n",
    "\n",
    "def divide(a:int, b:int) -> float:\n",
    "    \"\"\"\n",
    "    Divides two integer numbers\n",
    "\n",
    "    Args:\n",
    "        a (int): first integer\n",
    "        b (int): second integer\n",
    "\n",
    "    Returns:\n",
    "        float: result of division operation between the two integers\n",
    "    \"\"\"\n",
    "    return a/b\n",
    "\n",
    "tools = [add, multiply, divide]\n",
    "\n",
    "llm = ChatGoogleGenerativeAI(model=\"gemini-1.5-flash\")\n",
    "llm_with_tools = llm.bind_tools(tools=tools)\n"
   ]
  },
  {
   "cell_type": "code",
   "execution_count": 26,
   "metadata": {},
   "outputs": [],
   "source": [
    "# Create Graph and related elements,\n",
    "# 1. System message\n",
    "sys_msg = SystemMessage(content=\"You are a helpful assistant tasked with performing arithmetic on a set of inputs.\")\n",
    "\n",
    "# 2. Node\n",
    "def assistant(state: MessagesState):\n",
    "   return {\"messages\": [llm_with_tools.invoke([sys_msg] + state[\"messages\"])]}"
   ]
  },
  {
   "cell_type": "code",
   "execution_count": 53,
   "metadata": {},
   "outputs": [
    {
     "data": {
      "image/png": "[encoded data removed]",
      "text/plain": [
       "<IPython.core.display.Image object>"
      ]
     },
     "metadata": {},
     "output_type": "display_data"
    }
   ],
   "source": [
    "# 3. build graph\n",
    "\n",
    "builder = StateGraph(MessagesState)\n",
    "\n",
    "builder.add_node(\"assistant\",assistant)\n",
    "builder.add_node(\"tools\",ToolNode(tools=tools))\n",
    "\n",
    "builder.add_edge(START,\"assistant\")\n",
    "builder.add_conditional_edges(\n",
    "    \"assistant\",\n",
    "    tools_condition\n",
    ")\n",
    "builder.add_edge(\"tools\", \"assistant\")\n",
    "\n",
    "checkpointer = MemorySaver()\n",
    "\n",
    "graph = builder.compile(checkpointer=checkpointer)\n",
    "\n",
    "display(Image(graph.get_graph().draw_mermaid_png()))"
   ]
  },
  {
   "cell_type": "code",
   "execution_count": 56,
   "metadata": {},
   "outputs": [
    {
     "name": "stdout",
     "output_type": "stream",
     "text": [
      "================================\u001b[1m Human Message \u001b[0m=================================\n",
      "\n",
      "What is 3 multipled with 5?\n",
      "==================================\u001b[1m Ai Message \u001b[0m==================================\n",
      "Tool Calls:\n",
      "  multiply (b3e0b187-a2fd-49e8-b294-dd5922062491)\n",
      " Call ID: b3e0b187-a2fd-49e8-b294-dd5922062491\n",
      "  Args:\n",
      "    a: 3.0\n",
      "    b: 5.0\n",
      "=================================\u001b[1m Tool Message \u001b[0m=================================\n",
      "Name: multiply\n",
      "\n",
      "15\n",
      "==================================\u001b[1m Ai Message \u001b[0m==================================\n",
      "\n",
      "15\n"
     ]
    }
   ],
   "source": [
    "# Prepare input\n",
    "prompt = {\"messages\":\"What is 3 multipled with 5?\"}\n",
    "\n",
    "# Setup configuration\n",
    "thread = {\"configurable\":{\"thread_id\":\"2\"}}\n",
    "\n",
    "# Run\n",
    "for event in graph.stream(prompt, thread, stream_mode=\"values\"):\n",
    "    event[\"messages\"][-1].pretty_print()"
   ]
  },
  {
   "cell_type": "code",
   "execution_count": 59,
   "metadata": {},
   "outputs": [],
   "source": [
    "# check history\n",
    "\n",
    "all_states = list(graph.get_state_history(thread))\n",
    "to_replay = all_states[-2]"
   ]
  },
  {
   "cell_type": "code",
   "execution_count": null,
   "metadata": {},
   "outputs": [],
   "source": []
  },
  {
   "cell_type": "code",
   "execution_count": 61,
   "metadata": {},
   "outputs": [
    {
     "name": "stdout",
     "output_type": "stream",
     "text": [
      "================================\u001b[1m Human Message \u001b[0m=================================\n",
      "\n",
      "What is 3 multipled with 5?\n",
      "==================================\u001b[1m Ai Message \u001b[0m==================================\n",
      "Tool Calls:\n",
      "  multiply (4f0012f0-c230-46c5-9a79-170cd3c925e7)\n",
      " Call ID: 4f0012f0-c230-46c5-9a79-170cd3c925e7\n",
      "  Args:\n",
      "    a: 3.0\n",
      "    b: 5.0\n",
      "=================================\u001b[1m Tool Message \u001b[0m=================================\n",
      "Name: multiply\n",
      "\n",
      "15\n",
      "==================================\u001b[1m Ai Message \u001b[0m==================================\n",
      "\n",
      "3 multiplied with 5 is 15.\n"
     ]
    }
   ],
   "source": [
    "for event in graph.stream(None, to_replay.config, stream_mode=\"values\"):\n",
    "    event[\"messages\"][-1].pretty_print()"
   ]
  },
  {
   "cell_type": "code",
   "execution_count": 70,
   "metadata": {},
   "outputs": [
    {
     "data": {
      "text/plain": [
       "{'configurable': {'thread_id': '2',\n",
       "  'checkpoint_ns': '',\n",
       "  'checkpoint_id': '1efda7e8-2568-6418-8000-41955565ba16'}}"
      ]
     },
     "execution_count": 70,
     "metadata": {},
     "output_type": "execute_result"
    }
   ],
   "source": [
    "to_fork = all_states[-2]\n",
    "to_fork.config"
   ]
  },
  {
   "cell_type": "code",
   "execution_count": 71,
   "metadata": {},
   "outputs": [],
   "source": [
    "fork_config = graph.update_state(\n",
    "    to_fork.config,\n",
    "    {\n",
    "        \"messages\":HumanMessage(\n",
    "            content=\"What is 6 multiplied by 6?\",\n",
    "            id=to_fork.values[\"messages\"][0].id\n",
    "        )\n",
    "    }\n",
    ")"
   ]
  },
  {
   "cell_type": "code",
   "execution_count": 72,
   "metadata": {},
   "outputs": [
    {
     "data": {
      "text/plain": [
       "{'configurable': {'thread_id': '2',\n",
       "  'checkpoint_ns': '',\n",
       "  'checkpoint_id': '1efda7f2-d76b-61a2-8001-8f7b2b82f224'}}"
      ]
     },
     "execution_count": 72,
     "metadata": {},
     "output_type": "execute_result"
    }
   ],
   "source": [
    "fork_config"
   ]
  },
  {
   "cell_type": "code",
   "execution_count": 77,
   "metadata": {},
   "outputs": [
    {
     "data": {
      "text/plain": [
       "[{'messages': [HumanMessage(content='What is 6 multiplied by 6?', additional_kwargs={}, response_metadata={}, id='9db7bdcd-a6bd-434e-b0cf-83605e187e3d')]},\n",
       " ('assistant',),\n",
       " {'configurable': {'thread_id': '2',\n",
       "   'checkpoint_ns': '',\n",
       "   'checkpoint_id': '1efda7f2-d76b-61a2-8001-8f7b2b82f224'}},\n",
       " {'source': 'update',\n",
       "  'writes': {'__start__': {'messages': HumanMessage(content='What is 6 multiplied by 6?', additional_kwargs={}, response_metadata={}, id='9db7bdcd-a6bd-434e-b0cf-83605e187e3d')}},\n",
       "  'thread_id': '2',\n",
       "  'step': 1,\n",
       "  'parents': {},\n",
       "  'checkpoint_ns': '',\n",
       "  'checkpoint_id': '1efda7e8-2568-6418-8000-41955565ba16'},\n",
       " '2025-01-24T18:15:23.022948+00:00',\n",
       " {'configurable': {'thread_id': '2',\n",
       "   'checkpoint_ns': '',\n",
       "   'checkpoint_id': '1efda7e8-2568-6418-8000-41955565ba16'}},\n",
       " (PregelTask(id='cea884fc-d12d-99e3-ec41-db966e113c52', name='assistant', path=('__pregel_pull', 'assistant'), error=None, interrupts=(), state=None, result=None),)]"
      ]
     },
     "execution_count": 77,
     "metadata": {},
     "output_type": "execute_result"
    }
   ],
   "source": [
    "list(graph.get_state(thread))"
   ]
  },
  {
   "cell_type": "code",
   "execution_count": 78,
   "metadata": {},
   "outputs": [
    {
     "name": "stdout",
     "output_type": "stream",
     "text": [
      "================================\u001b[1m Human Message \u001b[0m=================================\n",
      "\n",
      "What is 6 multiplied by 6?\n",
      "==================================\u001b[1m Ai Message \u001b[0m==================================\n",
      "Tool Calls:\n",
      "  multiply (ca661de7-ea0f-457a-9bfe-ec59f00068cc)\n",
      " Call ID: ca661de7-ea0f-457a-9bfe-ec59f00068cc\n",
      "  Args:\n",
      "    a: 6.0\n",
      "    b: 6.0\n",
      "=================================\u001b[1m Tool Message \u001b[0m=================================\n",
      "Name: multiply\n",
      "\n",
      "36\n",
      "==================================\u001b[1m Ai Message \u001b[0m==================================\n",
      "\n",
      "36\n"
     ]
    }
   ],
   "source": [
    "for event in graph.stream(None, fork_config, stream_mode=\"values\"):\n",
    "    event[\"messages\"][-1].pretty_print()"
   ]
  },
  {
   "cell_type": "code",
   "execution_count": 79,
   "metadata": {},
   "outputs": [
    {
     "data": {
      "text/plain": [
       "[StateSnapshot(values={'messages': [HumanMessage(content='What is 6 multiplied by 6?', additional_kwargs={}, response_metadata={}, id='9db7bdcd-a6bd-434e-b0cf-83605e187e3d'), AIMessage(content='', additional_kwargs={'function_call': {'name': 'multiply', 'arguments': '{\"a\": 6.0, \"b\": 6.0}'}}, response_metadata={'prompt_feedback': {'block_reason': 0, 'safety_ratings': []}, 'finish_reason': 'STOP', 'safety_ratings': []}, id='run-48c0b91d-ffa7-4790-a15f-819de68d57ee-0', tool_calls=[{'name': 'multiply', 'args': {'a': 6.0, 'b': 6.0}, 'id': 'ca661de7-ea0f-457a-9bfe-ec59f00068cc', 'type': 'tool_call'}], usage_metadata={'input_tokens': 168, 'output_tokens': 3, 'total_tokens': 171, 'input_token_details': {'cache_read': 0}}), ToolMessage(content='36', name='multiply', id='d02cf628-b4d7-41df-b339-25627de650c1', tool_call_id='ca661de7-ea0f-457a-9bfe-ec59f00068cc'), AIMessage(content='36', additional_kwargs={}, response_metadata={'prompt_feedback': {'block_reason': 0, 'safety_ratings': []}, 'finish_reason': 'STOP', 'safety_ratings': []}, id='run-e017faaf-a099-4d7e-a4bf-4614e315b404-0', usage_metadata={'input_tokens': 202, 'output_tokens': 3, 'total_tokens': 205, 'input_token_details': {'cache_read': 0}})]}, next=(), config={'configurable': {'thread_id': '2', 'checkpoint_ns': '', 'checkpoint_id': '1efda7fb-ac37-6151-8004-913eb1c88a56'}}, metadata={'source': 'loop', 'writes': {'assistant': {'messages': [AIMessage(content='36', additional_kwargs={}, response_metadata={'prompt_feedback': {'block_reason': 0, 'safety_ratings': []}, 'finish_reason': 'STOP', 'safety_ratings': []}, id='run-e017faaf-a099-4d7e-a4bf-4614e315b404-0', usage_metadata={'input_tokens': 202, 'output_tokens': 3, 'total_tokens': 205, 'input_token_details': {'cache_read': 0}})]}}, 'thread_id': '2', 'checkpoint_ns': '', 'checkpoint_id': '1efda7f2-d76b-61a2-8001-8f7b2b82f224', 'step': 4, 'parents': {}}, created_at='2025-01-24T18:19:20.084695+00:00', parent_config={'configurable': {'thread_id': '2', 'checkpoint_ns': '', 'checkpoint_id': '1efda7fb-a6b5-666d-8003-6275bf0aacc2'}}, tasks=()),\n",
       " StateSnapshot(values={'messages': [HumanMessage(content='What is 6 multiplied by 6?', additional_kwargs={}, response_metadata={}, id='9db7bdcd-a6bd-434e-b0cf-83605e187e3d'), AIMessage(content='', additional_kwargs={'function_call': {'name': 'multiply', 'arguments': '{\"a\": 6.0, \"b\": 6.0}'}}, response_metadata={'prompt_feedback': {'block_reason': 0, 'safety_ratings': []}, 'finish_reason': 'STOP', 'safety_ratings': []}, id='run-48c0b91d-ffa7-4790-a15f-819de68d57ee-0', tool_calls=[{'name': 'multiply', 'args': {'a': 6.0, 'b': 6.0}, 'id': 'ca661de7-ea0f-457a-9bfe-ec59f00068cc', 'type': 'tool_call'}], usage_metadata={'input_tokens': 168, 'output_tokens': 3, 'total_tokens': 171, 'input_token_details': {'cache_read': 0}}), ToolMessage(content='36', name='multiply', id='d02cf628-b4d7-41df-b339-25627de650c1', tool_call_id='ca661de7-ea0f-457a-9bfe-ec59f00068cc')]}, next=('assistant',), config={'configurable': {'thread_id': '2', 'checkpoint_ns': '', 'checkpoint_id': '1efda7fb-a6b5-666d-8003-6275bf0aacc2'}}, metadata={'source': 'loop', 'writes': {'tools': {'messages': [ToolMessage(content='36', name='multiply', id='d02cf628-b4d7-41df-b339-25627de650c1', tool_call_id='ca661de7-ea0f-457a-9bfe-ec59f00068cc')]}}, 'thread_id': '2', 'checkpoint_ns': '', 'checkpoint_id': '1efda7f2-d76b-61a2-8001-8f7b2b82f224', 'step': 3, 'parents': {}}, created_at='2025-01-24T18:19:19.507296+00:00', parent_config={'configurable': {'thread_id': '2', 'checkpoint_ns': '', 'checkpoint_id': '1efda7fb-a6b0-688a-8002-f5aede9f65ec'}}, tasks=(PregelTask(id='36409121-a4a6-81f3-94c9-543408e29cc3', name='assistant', path=('__pregel_pull', 'assistant'), error=None, interrupts=(), state=None, result={'messages': [AIMessage(content='36', additional_kwargs={}, response_metadata={'prompt_feedback': {'block_reason': 0, 'safety_ratings': []}, 'finish_reason': 'STOP', 'safety_ratings': []}, id='run-e017faaf-a099-4d7e-a4bf-4614e315b404-0', usage_metadata={'input_tokens': 202, 'output_tokens': 3, 'total_tokens': 205, 'input_token_details': {'cache_read': 0}})]}),)),\n",
       " StateSnapshot(values={'messages': [HumanMessage(content='What is 6 multiplied by 6?', additional_kwargs={}, response_metadata={}, id='9db7bdcd-a6bd-434e-b0cf-83605e187e3d'), AIMessage(content='', additional_kwargs={'function_call': {'name': 'multiply', 'arguments': '{\"a\": 6.0, \"b\": 6.0}'}}, response_metadata={'prompt_feedback': {'block_reason': 0, 'safety_ratings': []}, 'finish_reason': 'STOP', 'safety_ratings': []}, id='run-48c0b91d-ffa7-4790-a15f-819de68d57ee-0', tool_calls=[{'name': 'multiply', 'args': {'a': 6.0, 'b': 6.0}, 'id': 'ca661de7-ea0f-457a-9bfe-ec59f00068cc', 'type': 'tool_call'}], usage_metadata={'input_tokens': 168, 'output_tokens': 3, 'total_tokens': 171, 'input_token_details': {'cache_read': 0}})]}, next=('tools',), config={'configurable': {'thread_id': '2', 'checkpoint_ns': '', 'checkpoint_id': '1efda7fb-a6b0-688a-8002-f5aede9f65ec'}}, metadata={'source': 'loop', 'writes': {'assistant': {'messages': [AIMessage(content='', additional_kwargs={'function_call': {'name': 'multiply', 'arguments': '{\"a\": 6.0, \"b\": 6.0}'}}, response_metadata={'prompt_feedback': {'block_reason': 0, 'safety_ratings': []}, 'finish_reason': 'STOP', 'safety_ratings': []}, id='run-48c0b91d-ffa7-4790-a15f-819de68d57ee-0', tool_calls=[{'name': 'multiply', 'args': {'a': 6.0, 'b': 6.0}, 'id': 'ca661de7-ea0f-457a-9bfe-ec59f00068cc', 'type': 'tool_call'}], usage_metadata={'input_tokens': 168, 'output_tokens': 3, 'total_tokens': 171, 'input_token_details': {'cache_read': 0}})]}}, 'thread_id': '2', 'checkpoint_ns': '', 'checkpoint_id': '1efda7f2-d76b-61a2-8001-8f7b2b82f224', 'step': 2, 'parents': {}}, created_at='2025-01-24T18:19:19.505291+00:00', parent_config={'configurable': {'thread_id': '2', 'checkpoint_ns': '', 'checkpoint_id': '1efda7f2-d76b-61a2-8001-8f7b2b82f224'}}, tasks=(PregelTask(id='17a70308-b957-be92-c62e-574e9f89ab34', name='tools', path=('__pregel_pull', 'tools'), error=None, interrupts=(), state=None, result={'messages': [ToolMessage(content='36', name='multiply', id='d02cf628-b4d7-41df-b339-25627de650c1', tool_call_id='ca661de7-ea0f-457a-9bfe-ec59f00068cc')]}),)),\n",
       " StateSnapshot(values={'messages': [HumanMessage(content='What is 6 multiplied by 6?', additional_kwargs={}, response_metadata={}, id='9db7bdcd-a6bd-434e-b0cf-83605e187e3d')]}, next=('assistant',), config={'configurable': {'thread_id': '2', 'checkpoint_ns': '', 'checkpoint_id': '1efda7f2-d76b-61a2-8001-8f7b2b82f224'}}, metadata={'source': 'update', 'writes': {'__start__': {'messages': HumanMessage(content='What is 6 multiplied by 6?', additional_kwargs={}, response_metadata={}, id='9db7bdcd-a6bd-434e-b0cf-83605e187e3d')}}, 'thread_id': '2', 'step': 1, 'parents': {}, 'checkpoint_ns': '', 'checkpoint_id': '1efda7e8-2568-6418-8000-41955565ba16'}, created_at='2025-01-24T18:15:23.022948+00:00', parent_config={'configurable': {'thread_id': '2', 'checkpoint_ns': '', 'checkpoint_id': '1efda7e8-2568-6418-8000-41955565ba16'}}, tasks=(PregelTask(id='cea884fc-d12d-99e3-ec41-db966e113c52', name='assistant', path=('__pregel_pull', 'assistant'), error=None, interrupts=(), state=None, result={'messages': [AIMessage(content='', additional_kwargs={'function_call': {'name': 'multiply', 'arguments': '{\"a\": 6.0, \"b\": 6.0}'}}, response_metadata={'prompt_feedback': {'block_reason': 0, 'safety_ratings': []}, 'finish_reason': 'STOP', 'safety_ratings': []}, id='run-48c0b91d-ffa7-4790-a15f-819de68d57ee-0', tool_calls=[{'name': 'multiply', 'args': {'a': 6.0, 'b': 6.0}, 'id': 'ca661de7-ea0f-457a-9bfe-ec59f00068cc', 'type': 'tool_call'}], usage_metadata={'input_tokens': 168, 'output_tokens': 3, 'total_tokens': 171, 'input_token_details': {'cache_read': 0}})]}),)),\n",
       " StateSnapshot(values={'messages': [HumanMessage(content='What is 3 multipled with 5?', additional_kwargs={}, response_metadata={}, id='9db7bdcd-a6bd-434e-b0cf-83605e187e3d'), AIMessage(content='', additional_kwargs={'function_call': {'name': 'multiply', 'arguments': '{\"a\": 3.0, \"b\": 5.0}'}}, response_metadata={'prompt_feedback': {'block_reason': 0, 'safety_ratings': []}, 'finish_reason': 'STOP', 'safety_ratings': []}, id='run-1ab574c4-c78e-43ee-b1da-ea56fa6d1c2a-0', tool_calls=[{'name': 'multiply', 'args': {'a': 3.0, 'b': 5.0}, 'id': '4f0012f0-c230-46c5-9a79-170cd3c925e7', 'type': 'tool_call'}], usage_metadata={'input_tokens': 169, 'output_tokens': 3, 'total_tokens': 172, 'input_token_details': {'cache_read': 0}}), ToolMessage(content='15', name='multiply', id='b046944a-7769-4e87-bf18-e19a03789b6b', tool_call_id='4f0012f0-c230-46c5-9a79-170cd3c925e7'), AIMessage(content='3 multiplied with 5 is 15.', additional_kwargs={}, response_metadata={'prompt_feedback': {'block_reason': 0, 'safety_ratings': []}, 'finish_reason': 'STOP', 'safety_ratings': []}, id='run-9ddbfcf7-b4e5-4ab5-9980-751b3c0bd142-0', usage_metadata={'input_tokens': 203, 'output_tokens': 11, 'total_tokens': 214, 'input_token_details': {'cache_read': 0}})]}, next=(), config={'configurable': {'thread_id': '2', 'checkpoint_ns': '', 'checkpoint_id': '1efda7e9-e48e-6397-8003-e53042c58248'}}, metadata={'source': 'loop', 'writes': {'assistant': {'messages': [AIMessage(content='3 multiplied with 5 is 15.', additional_kwargs={}, response_metadata={'prompt_feedback': {'block_reason': 0, 'safety_ratings': []}, 'finish_reason': 'STOP', 'safety_ratings': []}, id='run-9ddbfcf7-b4e5-4ab5-9980-751b3c0bd142-0', usage_metadata={'input_tokens': 203, 'output_tokens': 11, 'total_tokens': 214, 'input_token_details': {'cache_read': 0}})]}}, 'thread_id': '2', 'checkpoint_ns': '', 'checkpoint_id': '1efda7e8-2568-6418-8000-41955565ba16', 'step': 3, 'parents': {}}, created_at='2025-01-24T18:11:22.808595+00:00', parent_config={'configurable': {'thread_id': '2', 'checkpoint_ns': '', 'checkpoint_id': '1efda7e9-dac6-66dd-8002-5bc8104578b2'}}, tasks=()),\n",
       " StateSnapshot(values={'messages': [HumanMessage(content='What is 3 multipled with 5?', additional_kwargs={}, response_metadata={}, id='9db7bdcd-a6bd-434e-b0cf-83605e187e3d'), AIMessage(content='', additional_kwargs={'function_call': {'name': 'multiply', 'arguments': '{\"a\": 3.0, \"b\": 5.0}'}}, response_metadata={'prompt_feedback': {'block_reason': 0, 'safety_ratings': []}, 'finish_reason': 'STOP', 'safety_ratings': []}, id='run-1ab574c4-c78e-43ee-b1da-ea56fa6d1c2a-0', tool_calls=[{'name': 'multiply', 'args': {'a': 3.0, 'b': 5.0}, 'id': '4f0012f0-c230-46c5-9a79-170cd3c925e7', 'type': 'tool_call'}], usage_metadata={'input_tokens': 169, 'output_tokens': 3, 'total_tokens': 172, 'input_token_details': {'cache_read': 0}}), ToolMessage(content='15', name='multiply', id='b046944a-7769-4e87-bf18-e19a03789b6b', tool_call_id='4f0012f0-c230-46c5-9a79-170cd3c925e7')]}, next=('assistant',), config={'configurable': {'thread_id': '2', 'checkpoint_ns': '', 'checkpoint_id': '1efda7e9-dac6-66dd-8002-5bc8104578b2'}}, metadata={'source': 'loop', 'writes': {'tools': {'messages': [ToolMessage(content='15', name='multiply', id='b046944a-7769-4e87-bf18-e19a03789b6b', tool_call_id='4f0012f0-c230-46c5-9a79-170cd3c925e7')]}}, 'thread_id': '2', 'checkpoint_ns': '', 'checkpoint_id': '1efda7e8-2568-6418-8000-41955565ba16', 'step': 2, 'parents': {}}, created_at='2025-01-24T18:11:21.783045+00:00', parent_config={'configurable': {'thread_id': '2', 'checkpoint_ns': '', 'checkpoint_id': '1efda7e9-dac1-6d35-8001-42c5360a8a1b'}}, tasks=(PregelTask(id='47910a76-0b9f-a692-a8be-4939aabc1e00', name='assistant', path=('__pregel_pull', 'assistant'), error=None, interrupts=(), state=None, result={'messages': [AIMessage(content='3 multiplied with 5 is 15.', additional_kwargs={}, response_metadata={'prompt_feedback': {'block_reason': 0, 'safety_ratings': []}, 'finish_reason': 'STOP', 'safety_ratings': []}, id='run-9ddbfcf7-b4e5-4ab5-9980-751b3c0bd142-0', usage_metadata={'input_tokens': 203, 'output_tokens': 11, 'total_tokens': 214, 'input_token_details': {'cache_read': 0}})]}),)),\n",
       " StateSnapshot(values={'messages': [HumanMessage(content='What is 3 multipled with 5?', additional_kwargs={}, response_metadata={}, id='9db7bdcd-a6bd-434e-b0cf-83605e187e3d'), AIMessage(content='', additional_kwargs={'function_call': {'name': 'multiply', 'arguments': '{\"a\": 3.0, \"b\": 5.0}'}}, response_metadata={'prompt_feedback': {'block_reason': 0, 'safety_ratings': []}, 'finish_reason': 'STOP', 'safety_ratings': []}, id='run-1ab574c4-c78e-43ee-b1da-ea56fa6d1c2a-0', tool_calls=[{'name': 'multiply', 'args': {'a': 3.0, 'b': 5.0}, 'id': '4f0012f0-c230-46c5-9a79-170cd3c925e7', 'type': 'tool_call'}], usage_metadata={'input_tokens': 169, 'output_tokens': 3, 'total_tokens': 172, 'input_token_details': {'cache_read': 0}})]}, next=('tools',), config={'configurable': {'thread_id': '2', 'checkpoint_ns': '', 'checkpoint_id': '1efda7e9-dac1-6d35-8001-42c5360a8a1b'}}, metadata={'source': 'loop', 'writes': {'assistant': {'messages': [AIMessage(content='', additional_kwargs={'function_call': {'name': 'multiply', 'arguments': '{\"a\": 3.0, \"b\": 5.0}'}}, response_metadata={'prompt_feedback': {'block_reason': 0, 'safety_ratings': []}, 'finish_reason': 'STOP', 'safety_ratings': []}, id='run-1ab574c4-c78e-43ee-b1da-ea56fa6d1c2a-0', tool_calls=[{'name': 'multiply', 'args': {'a': 3.0, 'b': 5.0}, 'id': '4f0012f0-c230-46c5-9a79-170cd3c925e7', 'type': 'tool_call'}], usage_metadata={'input_tokens': 169, 'output_tokens': 3, 'total_tokens': 172, 'input_token_details': {'cache_read': 0}})]}}, 'thread_id': '2', 'checkpoint_ns': '', 'checkpoint_id': '1efda7e8-2568-6418-8000-41955565ba16', 'step': 1, 'parents': {}}, created_at='2025-01-24T18:11:21.781157+00:00', parent_config={'configurable': {'thread_id': '2', 'checkpoint_ns': '', 'checkpoint_id': '1efda7e8-2568-6418-8000-41955565ba16'}}, tasks=(PregelTask(id='eb8ce837-36b6-4700-e138-cc4b286e0661', name='tools', path=('__pregel_pull', 'tools'), error=None, interrupts=(), state=None, result={'messages': [ToolMessage(content='15', name='multiply', id='b046944a-7769-4e87-bf18-e19a03789b6b', tool_call_id='4f0012f0-c230-46c5-9a79-170cd3c925e7')]}),)),\n",
       " StateSnapshot(values={'messages': [HumanMessage(content='What is 3 multipled with 5?', additional_kwargs={}, response_metadata={}, id='9db7bdcd-a6bd-434e-b0cf-83605e187e3d'), AIMessage(content='', additional_kwargs={'function_call': {'name': 'multiply', 'arguments': '{\"a\": 3.0, \"b\": 5.0}'}}, response_metadata={'prompt_feedback': {'block_reason': 0, 'safety_ratings': []}, 'finish_reason': 'STOP', 'safety_ratings': []}, id='run-85c5f7da-fa02-410e-9f32-8d1bba628f55-0', tool_calls=[{'name': 'multiply', 'args': {'a': 3.0, 'b': 5.0}, 'id': 'b3e0b187-a2fd-49e8-b294-dd5922062491', 'type': 'tool_call'}], usage_metadata={'input_tokens': 169, 'output_tokens': 3, 'total_tokens': 172, 'input_token_details': {'cache_read': 0}}), ToolMessage(content='15', name='multiply', id='ce46c0b5-ea4d-4a44-9a60-9b93ef01a389', tool_call_id='b3e0b187-a2fd-49e8-b294-dd5922062491'), AIMessage(content='15', additional_kwargs={}, response_metadata={'prompt_feedback': {'block_reason': 0, 'safety_ratings': []}, 'finish_reason': 'STOP', 'safety_ratings': []}, id='run-800f07a2-4138-42c2-bce2-78b8e5228b17-0', usage_metadata={'input_tokens': 203, 'output_tokens': 3, 'total_tokens': 206, 'input_token_details': {'cache_read': 0}})]}, next=(), config={'configurable': {'thread_id': '2', 'checkpoint_ns': '', 'checkpoint_id': '1efda7e8-3737-62e1-8003-3aa5a549251a'}}, metadata={'source': 'loop', 'writes': {'assistant': {'messages': [AIMessage(content='15', additional_kwargs={}, response_metadata={'prompt_feedback': {'block_reason': 0, 'safety_ratings': []}, 'finish_reason': 'STOP', 'safety_ratings': []}, id='run-800f07a2-4138-42c2-bce2-78b8e5228b17-0', usage_metadata={'input_tokens': 203, 'output_tokens': 3, 'total_tokens': 206, 'input_token_details': {'cache_read': 0}})]}}, 'thread_id': '2', 'step': 3, 'parents': {}}, created_at='2025-01-24T18:10:37.789030+00:00', parent_config={'configurable': {'thread_id': '2', 'checkpoint_ns': '', 'checkpoint_id': '1efda7e8-2cba-6ce0-8002-e432bc0cec75'}}, tasks=()),\n",
       " StateSnapshot(values={'messages': [HumanMessage(content='What is 3 multipled with 5?', additional_kwargs={}, response_metadata={}, id='9db7bdcd-a6bd-434e-b0cf-83605e187e3d'), AIMessage(content='', additional_kwargs={'function_call': {'name': 'multiply', 'arguments': '{\"a\": 3.0, \"b\": 5.0}'}}, response_metadata={'prompt_feedback': {'block_reason': 0, 'safety_ratings': []}, 'finish_reason': 'STOP', 'safety_ratings': []}, id='run-85c5f7da-fa02-410e-9f32-8d1bba628f55-0', tool_calls=[{'name': 'multiply', 'args': {'a': 3.0, 'b': 5.0}, 'id': 'b3e0b187-a2fd-49e8-b294-dd5922062491', 'type': 'tool_call'}], usage_metadata={'input_tokens': 169, 'output_tokens': 3, 'total_tokens': 172, 'input_token_details': {'cache_read': 0}}), ToolMessage(content='15', name='multiply', id='ce46c0b5-ea4d-4a44-9a60-9b93ef01a389', tool_call_id='b3e0b187-a2fd-49e8-b294-dd5922062491')]}, next=('assistant',), config={'configurable': {'thread_id': '2', 'checkpoint_ns': '', 'checkpoint_id': '1efda7e8-2cba-6ce0-8002-e432bc0cec75'}}, metadata={'source': 'loop', 'writes': {'tools': {'messages': [ToolMessage(content='15', name='multiply', id='ce46c0b5-ea4d-4a44-9a60-9b93ef01a389', tool_call_id='b3e0b187-a2fd-49e8-b294-dd5922062491')]}}, 'thread_id': '2', 'step': 2, 'parents': {}}, created_at='2025-01-24T18:10:36.689516+00:00', parent_config={'configurable': {'thread_id': '2', 'checkpoint_ns': '', 'checkpoint_id': '1efda7e8-2cb5-691f-8001-30aab89ff04a'}}, tasks=(PregelTask(id='488b7e51-599a-6dc5-fae1-d0a49afeae68', name='assistant', path=('__pregel_pull', 'assistant'), error=None, interrupts=(), state=None, result={'messages': [AIMessage(content='15', additional_kwargs={}, response_metadata={'prompt_feedback': {'block_reason': 0, 'safety_ratings': []}, 'finish_reason': 'STOP', 'safety_ratings': []}, id='run-800f07a2-4138-42c2-bce2-78b8e5228b17-0', usage_metadata={'input_tokens': 203, 'output_tokens': 3, 'total_tokens': 206, 'input_token_details': {'cache_read': 0}})]}),)),\n",
       " StateSnapshot(values={'messages': [HumanMessage(content='What is 3 multipled with 5?', additional_kwargs={}, response_metadata={}, id='9db7bdcd-a6bd-434e-b0cf-83605e187e3d'), AIMessage(content='', additional_kwargs={'function_call': {'name': 'multiply', 'arguments': '{\"a\": 3.0, \"b\": 5.0}'}}, response_metadata={'prompt_feedback': {'block_reason': 0, 'safety_ratings': []}, 'finish_reason': 'STOP', 'safety_ratings': []}, id='run-85c5f7da-fa02-410e-9f32-8d1bba628f55-0', tool_calls=[{'name': 'multiply', 'args': {'a': 3.0, 'b': 5.0}, 'id': 'b3e0b187-a2fd-49e8-b294-dd5922062491', 'type': 'tool_call'}], usage_metadata={'input_tokens': 169, 'output_tokens': 3, 'total_tokens': 172, 'input_token_details': {'cache_read': 0}})]}, next=('tools',), config={'configurable': {'thread_id': '2', 'checkpoint_ns': '', 'checkpoint_id': '1efda7e8-2cb5-691f-8001-30aab89ff04a'}}, metadata={'source': 'loop', 'writes': {'assistant': {'messages': [AIMessage(content='', additional_kwargs={'function_call': {'name': 'multiply', 'arguments': '{\"a\": 3.0, \"b\": 5.0}'}}, response_metadata={'prompt_feedback': {'block_reason': 0, 'safety_ratings': []}, 'finish_reason': 'STOP', 'safety_ratings': []}, id='run-85c5f7da-fa02-410e-9f32-8d1bba628f55-0', tool_calls=[{'name': 'multiply', 'args': {'a': 3.0, 'b': 5.0}, 'id': 'b3e0b187-a2fd-49e8-b294-dd5922062491', 'type': 'tool_call'}], usage_metadata={'input_tokens': 169, 'output_tokens': 3, 'total_tokens': 172, 'input_token_details': {'cache_read': 0}})]}}, 'thread_id': '2', 'step': 1, 'parents': {}}, created_at='2025-01-24T18:10:36.687369+00:00', parent_config={'configurable': {'thread_id': '2', 'checkpoint_ns': '', 'checkpoint_id': '1efda7e8-2568-6418-8000-41955565ba16'}}, tasks=(PregelTask(id='a727147a-8e1d-0a9e-b75b-99fbddac0e15', name='tools', path=('__pregel_pull', 'tools'), error=None, interrupts=(), state=None, result={'messages': [ToolMessage(content='15', name='multiply', id='ce46c0b5-ea4d-4a44-9a60-9b93ef01a389', tool_call_id='b3e0b187-a2fd-49e8-b294-dd5922062491')]}),)),\n",
       " StateSnapshot(values={'messages': [HumanMessage(content='What is 3 multipled with 5?', additional_kwargs={}, response_metadata={}, id='9db7bdcd-a6bd-434e-b0cf-83605e187e3d')]}, next=('assistant',), config={'configurable': {'thread_id': '2', 'checkpoint_ns': '', 'checkpoint_id': '1efda7e8-2568-6418-8000-41955565ba16'}}, metadata={'source': 'loop', 'writes': None, 'thread_id': '2', 'step': 0, 'parents': {}}, created_at='2025-01-24T18:10:35.921699+00:00', parent_config={'configurable': {'thread_id': '2', 'checkpoint_ns': '', 'checkpoint_id': '1efda7e8-2564-6c74-bfff-775aeca2c673'}}, tasks=(PregelTask(id='4585e15e-6314-52a9-3caf-4fe512509b19', name='assistant', path=('__pregel_pull', 'assistant'), error=None, interrupts=(), state=None, result={'messages': [AIMessage(content='', additional_kwargs={'function_call': {'name': 'multiply', 'arguments': '{\"a\": 3.0, \"b\": 5.0}'}}, response_metadata={'prompt_feedback': {'block_reason': 0, 'safety_ratings': []}, 'finish_reason': 'STOP', 'safety_ratings': []}, id='run-85c5f7da-fa02-410e-9f32-8d1bba628f55-0', tool_calls=[{'name': 'multiply', 'args': {'a': 3.0, 'b': 5.0}, 'id': 'b3e0b187-a2fd-49e8-b294-dd5922062491', 'type': 'tool_call'}], usage_metadata={'input_tokens': 169, 'output_tokens': 3, 'total_tokens': 172, 'input_token_details': {'cache_read': 0}})]}),)),\n",
       " StateSnapshot(values={'messages': []}, next=('__start__',), config={'configurable': {'thread_id': '2', 'checkpoint_ns': '', 'checkpoint_id': '1efda7e8-2564-6c74-bfff-775aeca2c673'}}, metadata={'source': 'input', 'writes': {'__start__': {'messages': 'What is 3 multipled with 5?'}}, 'thread_id': '2', 'step': -1, 'parents': {}}, created_at='2025-01-24T18:10:35.920287+00:00', parent_config=None, tasks=(PregelTask(id='b5749d02-ff4f-4d18-82ee-d59cb32700e3', name='__start__', path=('__pregel_pull', '__start__'), error=None, interrupts=(), state=None, result={'messages': 'What is 3 multipled with 5?'}),))]"
      ]
     },
     "execution_count": 79,
     "metadata": {},
     "output_type": "execute_result"
    }
   ],
   "source": [
    "list(graph.get_state_history(thread))"
   ]
  },
  {
   "cell_type": "code",
   "execution_count": null,
   "metadata": {},
   "outputs": [],
   "source": []
  }
 ],
 "metadata": {
  "kernelspec": {
   "display_name": "langgraph",
   "language": "python",
   "name": "python3"
  },
  "language_info": {
   "codemirror_mode": {
    "name": "ipython",
    "version": 3
   },
   "file_extension": ".py",
   "mimetype": "text/x-python",
   "name": "python",
   "nbconvert_exporter": "python",
   "pygments_lexer": "ipython3",
   "version": "3.13.1"
  }
 },
 "nbformat": 4,
 "nbformat_minor": 2
}
