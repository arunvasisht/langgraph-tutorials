{
 "cells": [
  {
   "cell_type": "markdown",
   "metadata": {},
   "source": [
    "# Demonstrate Filtering and Trimming of Messages"
   ]
  },
  {
   "cell_type": "code",
   "execution_count": 11,
   "metadata": {},
   "outputs": [
    {
     "data": {
      "text/plain": [
       "True"
      ]
     },
     "execution_count": 11,
     "metadata": {},
     "output_type": "execute_result"
    }
   ],
   "source": [
    "from json import load\n",
    "from langchain_core.messages import AIMessage, HumanMessage\n",
    "from langchain_google_genai.chat_models import ChatGoogleGenerativeAI\n",
    "from langgraph.graph.message import MessagesState\n",
    "from langgraph.graph import StateGraph, START, END\n",
    "from IPython.display import Image, display\n",
    "from pprint import pprint\n",
    "from dotenv import load_dotenv\n",
    "load_dotenv()"
   ]
  },
  {
   "cell_type": "code",
   "execution_count": 8,
   "metadata": {},
   "outputs": [
    {
     "name": "stdout",
     "output_type": "stream",
     "text": [
      "==================================\u001b[1m Ai Message \u001b[0m==================================\n",
      "Name: Bot\n",
      "\n",
      "Do you need information on Neutron stars?\n",
      "================================\u001b[1m Human Message \u001b[0m=================================\n",
      "Name: Arun\n",
      "\n",
      "Yes, I am looking for a 150 word description of Neutron stars?\n"
     ]
    }
   ],
   "source": [
    "# define some messages\n",
    "messages = [\n",
    "    AIMessage(content=\"Do you need information on Neutron stars?\", name=\"Bot\"),\n",
    "    HumanMessage(content=\"Yes, I am looking for a 150 word description of Neutron stars?\", name=\"Arun\")\n",
    "]\n",
    "\n",
    "for message in messages:\n",
    "    message.pretty_print()"
   ]
  },
  {
   "cell_type": "code",
   "execution_count": 9,
   "metadata": {},
   "outputs": [
    {
     "data": {
      "text/plain": [
       "AIMessage(content=\"Neutron stars are incredibly dense remnants of massive stars that have undergone supernova explosions.  Packed into a sphere only about 20 kilometers across is a mass greater than our Sun's. This extreme density crushes atoms, leaving behind a core primarily composed of neutrons, hence the name.  Their intense gravity creates immense surface gravity, many billions of times stronger than Earth's.  Neutron stars often spin incredibly rapidly, sometimes hundreds of times per second, and possess incredibly strong magnetic fields, trillions of times stronger than Earth's.  These extreme magnetic fields can generate powerful beams of radiation, observable as pulsars if the beam sweeps across Earth.  Neutron stars represent a fascinating and extreme state of matter, providing valuable insights into the fundamental forces of the universe.\", additional_kwargs={}, response_metadata={'prompt_feedback': {'block_reason': 0, 'safety_ratings': []}, 'finish_reason': 'STOP', 'safety_ratings': []}, id='run-2c78db30-f519-4122-9b61-4176537e3be4-0', usage_metadata={'input_tokens': 27, 'output_tokens': 155, 'total_tokens': 182, 'input_token_details': {'cache_read': 0}})"
      ]
     },
     "execution_count": 9,
     "metadata": {},
     "output_type": "execute_result"
    }
   ],
   "source": [
    "llm = ChatGoogleGenerativeAI(model=\"gemini-1.5-flash\")\n",
    "llm.invoke(messages)"
   ]
  },
  {
   "cell_type": "markdown",
   "metadata": {},
   "source": [
    "## Create a chat model graph"
   ]
  },
  {
   "cell_type": "code",
   "execution_count": 12,
   "metadata": {},
   "outputs": [
    {
     "data": {
      "image/png": "[encoded data removed]",
      "text/plain": [
       "<IPython.core.display.Image object>"
      ]
     },
     "metadata": {},
     "output_type": "display_data"
    }
   ],
   "source": [
    "def chat_model_node(state:MessagesState):\n",
    "    return {\"messages\":llm.invoke(state[\"messages\"])}\n",
    "\n",
    "\n",
    "builder = StateGraph(MessagesState)\n",
    "builder.add_node(\"chat_model_node\", chat_model_node)\n",
    "\n",
    "builder.add_edge(START, \"chat_model_node\")\n",
    "builder.add_edge(\"chat_model_node\",END)\n",
    "\n",
    "graph = builder.compile()\n",
    "\n",
    "display(Image(graph.get_graph().draw_mermaid_png()))\n"
   ]
  },
  {
   "cell_type": "code",
   "execution_count": null,
   "metadata": {},
   "outputs": [
    {
     "name": "stdout",
     "output_type": "stream",
     "text": [
      "==================================\u001b[1m Ai Message \u001b[0m==================================\n",
      "Name: Bot\n",
      "\n",
      "Do you need information on Neutron stars?\n",
      "================================\u001b[1m Human Message \u001b[0m=================================\n",
      "Name: Arun\n",
      "\n",
      "Yes, I am looking for a 150 word description of Neutron stars?\n",
      "==================================\u001b[1m Ai Message \u001b[0m==================================\n",
      "\n",
      "Neutron stars are incredibly dense remnants of massive stars that have undergone supernova explosions.  A teaspoon of neutron star material would weigh billions of tons on Earth.  Their intense gravity compresses matter into a state where protons and electrons are forced together to form neutrons, hence their name.  These stars are typically only 10-20 kilometers in diameter, yet possess a mass 1.4 to 2 times that of our Sun.  Their rapid rotation and strong magnetic fields create powerful beams of radiation, detectable as pulsars.  These beams sweep across space like a lighthouse, producing regular pulses of electromagnetic radiation.  Neutron stars exhibit extreme conditions, with surface temperatures reaching millions of degrees Celsius and incredibly strong gravitational fields.  Their study provides crucial insights into extreme physics and the life cycle of stars.\n"
     ]
    },
    {
     "ename": "",
     "evalue": "",
     "output_type": "error",
     "traceback": [
      "\u001b[1;31mThe Kernel crashed while executing code in the current cell or a previous cell. \n",
      "\u001b[1;31mPlease review the code in the cell(s) to identify a possible cause of the failure. \n",
      "\u001b[1;31mClick <a href='https://aka.ms/vscodeJupyterKernelCrash'>here</a> for more info. \n",
      "\u001b[1;31mView Jupyter <a href='command:jupyter.viewOutput'>log</a> for further details."
     ]
    }
   ],
   "source": [
    "response = graph.invoke({\"messages\":messages})\n",
    "\n",
    "for m in response[\"messages\"]:\n",
    "    m.pretty_print()"
   ]
  },
  {
   "cell_type": "markdown",
   "metadata": {},
   "source": [
    "#### Strategies\n",
    "1. Updating *MessagesState* to keep only last N number of messages in the state. The state only keeps last N messages and others are discarded.\n",
    "2. Invoking chat model with last N number of messages. No messages are discarded.\n",
    "3. Trimming the messages to send only N number of tokens using the _trim_messages()_ available in `langchain_core.messages`"
   ]
  },
  {
   "cell_type": "markdown",
   "metadata": {},
   "source": []
  }
 ],
 "metadata": {
  "kernelspec": {
   "display_name": "langgraph",
   "language": "python",
   "name": "python3"
  },
  "language_info": {
   "codemirror_mode": {
    "name": "ipython",
    "version": 3
   },
   "file_extension": ".py",
   "mimetype": "text/x-python",
   "name": "python",
   "nbconvert_exporter": "python",
   "pygments_lexer": "ipython3",
   "version": "3.13.1"
  }
 },
 "nbformat": 4,
 "nbformat_minor": 2
}
