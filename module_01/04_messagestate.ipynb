{
 "cells": [
  {
   "cell_type": "markdown",
   "metadata": {},
   "source": [
    "# Demonstrate Custom MessageState and related functions\n",
    "\n",
    "**In continuation to the reducer notebook**"
   ]
  },
  {
   "cell_type": "code",
   "execution_count": 3,
   "metadata": {},
   "outputs": [],
   "source": [
    "from typing_extensions import Annotated, TypedDict\n",
    "from langgraph.graph import MessagesState\n",
    "from langchain_core.messages import AnyMessage\n",
    "from langgraph.graph.message import add_messages"
   ]
  },
  {
   "cell_type": "code",
   "execution_count": 4,
   "metadata": {},
   "outputs": [],
   "source": [
    "# Define a custom MessageState\n",
    "\n",
    "class CustomMessageState(TypedDict):\n",
    "    messages : Annotated[list[AnyMessage], add_messages]\n",
    "\n"
   ]
  },
  {
   "cell_type": "code",
   "execution_count": 7,
   "metadata": {},
   "outputs": [],
   "source": [
    "from langchain_core.messages import HumanMessage, AIMessage\n",
    "\n",
    "messages = [\n",
    "    HumanMessage(content=\"Hi\", name=\"Arun\"),\n",
    "    AIMessage(content=\"Hi there! How can I help you today?\", name=\"Bot\")\n",
    "]\n",
    "\n",
    "new_message = HumanMessage(\n",
    "    content = \"What is a Black Hole?\",\n",
    "    name = \"Arun\"\n",
    ")"
   ]
  },
  {
   "cell_type": "code",
   "execution_count": 8,
   "metadata": {},
   "outputs": [
    {
     "data": {
      "text/plain": [
       "[HumanMessage(content='Hi', additional_kwargs={}, response_metadata={}, name='Arun', id='ba86169b-9f1a-42f4-8e5c-e699f108381c'),\n",
       " AIMessage(content='Hi there! How can I help you today?', additional_kwargs={}, response_metadata={}, name='Bot', id='d8ecc30d-af86-4739-951c-ddc30647e6ac'),\n",
       " HumanMessage(content='What is a Black Hole?', additional_kwargs={}, response_metadata={}, name='Arun', id='245e9bd7-cc30-447a-a241-e6bb00cd6ef9')]"
      ]
     },
     "execution_count": 8,
     "metadata": {},
     "output_type": "execute_result"
    }
   ],
   "source": [
    "add_messages(messages, new_message)"
   ]
  },
  {
   "cell_type": "markdown",
   "metadata": {},
   "source": [
    "**Update Messages**"
   ]
  },
  {
   "cell_type": "code",
   "execution_count": 14,
   "metadata": {},
   "outputs": [
    {
     "name": "stdout",
     "output_type": "stream",
     "text": [
      "Current Messages:\n"
     ]
    },
    {
     "data": {
      "text/plain": [
       "[HumanMessage(content='Hi', additional_kwargs={}, response_metadata={}, name='Arun', id='1'),\n",
       " AIMessage(content='Hi There! How can I help?', additional_kwargs={}, response_metadata={}, name='Bot', id='2'),\n",
       " HumanMessage(content='What is a Black Hole?', additional_kwargs={}, response_metadata={}, name='Arun', id='3')]"
      ]
     },
     "execution_count": 14,
     "metadata": {},
     "output_type": "execute_result"
    }
   ],
   "source": [
    "# Sample Messages\n",
    "messages = [\n",
    "    HumanMessage(content=\"Hi\", name=\"Arun\", id=\"1\"),\n",
    "    AIMessage(content=\"Hi There! How can I help?\", name=\"Bot\", id=\"2\"),\n",
    "    HumanMessage(content=\"What is a Black Hole?\", name=\"Arun\", id=\"3\")\n",
    "]\n",
    "\n",
    "print(\"Current Messages:\")\n",
    "messages\n",
    "\n"
   ]
  },
  {
   "cell_type": "code",
   "execution_count": 34,
   "metadata": {},
   "outputs": [
    {
     "name": "stdout",
     "output_type": "stream",
     "text": [
      "Updated Messages:\n"
     ]
    },
    {
     "data": {
      "text/plain": [
       "[HumanMessage(content='Hi', additional_kwargs={}, response_metadata={}, name='Arun', id='1'),\n",
       " AIMessage(content='Hi There! How can I help?', additional_kwargs={}, response_metadata={}, name='Bot', id='2'),\n",
       " HumanMessage(content='Tell me what is a Black Hole?', additional_kwargs={}, response_metadata={}, id='3')]"
      ]
     },
     "execution_count": 34,
     "metadata": {},
     "output_type": "execute_result"
    }
   ],
   "source": [
    "# Message to be updated (use the same 'id')\n",
    "message = HumanMessage(content=\"Tell me what is a Black Hole?\", id=\"3\")\n",
    "\n",
    "# use add_messages() to update the message\n",
    "updated_messages = add_messages(messages, message)\n",
    "\n",
    "print(\"Updated Messages:\")\n",
    "updated_messages\n"
   ]
  },
  {
   "cell_type": "markdown",
   "metadata": {},
   "source": [
    "**Remove Messages**"
   ]
  },
  {
   "cell_type": "code",
   "execution_count": 16,
   "metadata": {},
   "outputs": [
    {
     "data": {
      "text/plain": [
       "[AIMessage(content='Hi There! How can I help?', additional_kwargs={}, response_metadata={}, name='Bot', id='2'),\n",
       " HumanMessage(content='Tell me what is a Black Hole?', additional_kwargs={}, response_metadata={}, id='3')]"
      ]
     },
     "execution_count": 16,
     "metadata": {},
     "output_type": "execute_result"
    }
   ],
   "source": [
    "# To remove a message, we use the 'id' of the message and pass it to RemoveMessage\n",
    "from langgraph.graph.message import RemoveMessage\n",
    "\n",
    "add_messages(updated_messages, RemoveMessage(id=\"1\"))"
   ]
  },
  {
   "cell_type": "code",
   "execution_count": 37,
   "metadata": {},
   "outputs": [],
   "source": [
    "# to remove more than one message you can use list comprehension\n",
    "\n",
    "updated_messages = add_messages(updated_messages, [RemoveMessage(id=m.id) for m in messages[:2]])"
   ]
  },
  {
   "cell_type": "code",
   "execution_count": 38,
   "metadata": {},
   "outputs": [
    {
     "data": {
      "text/plain": [
       "[HumanMessage(content='Tell me what is a Black Hole?', additional_kwargs={}, response_metadata={}, id='3')]"
      ]
     },
     "execution_count": 38,
     "metadata": {},
     "output_type": "execute_result"
    },
    {
     "ename": "",
     "evalue": "",
     "output_type": "error",
     "traceback": [
      "\u001b[1;31mThe Kernel crashed while executing code in the current cell or a previous cell. \n",
      "\u001b[1;31mPlease review the code in the cell(s) to identify a possible cause of the failure. \n",
      "\u001b[1;31mClick <a href='https://aka.ms/vscodeJupyterKernelCrash'>here</a> for more info. \n",
      "\u001b[1;31mView Jupyter <a href='command:jupyter.viewOutput'>log</a> for further details."
     ]
    }
   ],
   "source": [
    "updated_messages"
   ]
  },
  {
   "cell_type": "code",
   "execution_count": null,
   "metadata": {},
   "outputs": [],
   "source": []
  }
 ],
 "metadata": {
  "kernelspec": {
   "display_name": "langgraph",
   "language": "python",
   "name": "python3"
  },
  "language_info": {
   "codemirror_mode": {
    "name": "ipython",
    "version": 3
   },
   "file_extension": ".py",
   "mimetype": "text/x-python",
   "name": "python",
   "nbconvert_exporter": "python",
   "pygments_lexer": "ipython3",
   "version": "3.13.1"
  }
 },
 "nbformat": 4,
 "nbformat_minor": 2
}
