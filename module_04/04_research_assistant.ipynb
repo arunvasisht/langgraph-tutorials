{
 "cells": [
  {
   "cell_type": "markdown",
   "metadata": {},
   "source": [
    "# Research Assistant\n",
    "\n",
    "**Objective**: Build a Lightweight , multi agent research system using LLM\n",
    "\n"
   ]
  },
  {
   "cell_type": "code",
   "execution_count": 1,
   "metadata": {},
   "outputs": [
    {
     "data": {
      "text/plain": [
       "True"
      ]
     },
     "execution_count": 1,
     "metadata": {},
     "output_type": "execute_result"
    }
   ],
   "source": [
    "from langchain_google_genai import ChatGoogleGenerativeAI\n",
    "from dotenv import load_dotenv\n",
    "from IPython.display import display, Image\n",
    "\n",
    "load_dotenv()"
   ]
  },
  {
   "cell_type": "code",
   "execution_count": 15,
   "metadata": {},
   "outputs": [],
   "source": [
    "llm = ChatGoogleGenerativeAI(model=\"gemini-1.5-flash\")"
   ]
  },
  {
   "cell_type": "markdown",
   "metadata": {},
   "source": [
    "## Generate Analysts : Human-In-The-Loop\n",
    "\n",
    "Create analysts and review them using HITL\n",
    "\n",
    "We create a set of analysts having different profiles. This step is to ensure that the research we perform carries information from the perspective of different experts."
   ]
  },
  {
   "cell_type": "code",
   "execution_count": 107,
   "metadata": {},
   "outputs": [],
   "source": [
    "from langgraph.graph import StateGraph, START, END\n",
    "from typing import Optional, TypedDict, List\n",
    "from pydantic import BaseModel, Field\n",
    "\n",
    "# Analyst Profile Schema\n",
    "class Analyst(BaseModel):\n",
    "    affiliation:str = Field(description=\"Name of the primary affiliation of the analyst.\")\n",
    "    name:str = Field(description=\"Name of the analyst\")\n",
    "    role:str = Field(description=\"Role of the analyst in the context of the topic.\")\n",
    "    description:str = Field(description=\"A small description of the analyst's expertise.\")\n",
    "\n",
    "    @property\n",
    "    def persona(self) -> str:\n",
    "        return f\"Name:{self.name}\\nRole:{self.role}\\nAffiliation:{self.affiliation}\\nDescription:{self.description}\"\n",
    "    \n",
    "\n",
    "class Perspectives(BaseModel):\n",
    "    analysts:List[Analyst] = Field(description=\"Comprehensive list of the the analysts with their role and affiliations.\")\n",
    "\n",
    "\n",
    "class GenerateAnalystsState(TypedDict):\n",
    "    topic: str # Research topic\n",
    "    max_analysts: int # Number of analysts\n",
    "    human_analyst_feedback: str # Human feedback\n",
    "    analysts: List[Analyst] # Analyst asking questions\n"
   ]
  },
  {
   "cell_type": "code",
   "execution_count": 147,
   "metadata": {},
   "outputs": [],
   "source": [
    "analyst_instructions=\"\"\"You are tasked with creating a set of AI analyst personas. Follow these instructions carefully:\n",
    "\n",
    "1. First, review the research topic:\n",
    "{topic}\n",
    "        \n",
    "2. Examine any editorial feedback that has been optionally provided to guide creation of the analysts: \n",
    "        \n",
    "{human_analyst_feedback}\n",
    "    \n",
    "3. Determine the most interesting themes based upon documents and / or feedback above.\n",
    "                    \n",
    "4. Pick the top {max_analysts} themes.\n",
    "\n",
    "5. Assign one analyst to each theme.\n",
    "\n",
    "6. Make sure that each analyst has an affiliation, name, role and description.\n",
    "\"\"\""
   ]
  },
  {
   "cell_type": "code",
   "execution_count": 171,
   "metadata": {},
   "outputs": [],
   "source": [
    "from langchain_core.messages import HumanMessage, AIMessage, SystemMessage\n",
    "from langgraph.checkpoint.memory import MemorySaver\n",
    "\n",
    "# Define the node\n",
    "def generate_analysts(state:GenerateAnalystsState):\n",
    "    system_message = analyst_instructions.format(\n",
    "        topic=state['topic'], \n",
    "        human_analyst_feedback=state.get('human_analyst_feedback',''),\n",
    "        max_analysts=state['max_analysts']\n",
    "        )\n",
    "    response = llm.with_structured_output(Perspectives).invoke(\n",
    "        [SystemMessage(content=system_message),\n",
    "        HumanMessage(content=\"Generate the set of analysts.\")])\n",
    "    \n",
    "    return {\"analysts\":response.analysts}"
   ]
  },
  {
   "cell_type": "code",
   "execution_count": 225,
   "metadata": {},
   "outputs": [],
   "source": [
    "state = GenerateAnalystsState(\n",
    "    {\n",
    "        \"max_analysts\":3,\n",
    "        \"topic\":\"Number of girls entering teaching profession in India\"\n",
    "    }\n",
    ")\n",
    "\n"
   ]
  },
  {
   "cell_type": "code",
   "execution_count": 172,
   "metadata": {},
   "outputs": [
    {
     "data": {
      "text/plain": [
       "{'analysts': [Analyst(affiliation='Stanford University', name='Dr. Alice Anderson', role='Strengths Analyst: Knowledge Graph Construction and Querying', description='Expert in graph databases and knowledge representation.'),\n",
       "  Analyst(affiliation='Google AI', name='Bob Brown', role='Weaknesses Analyst: Scalability and Efficiency', description='Focuses on the scalability and efficiency of large language models.'),\n",
       "  Analyst(affiliation='University of Oxford', name='Dr. Carol Clark', role='Ethical Implications Analyst: Bias and Fairness', description='Researches the ethical implications of AI technologies.')]}"
      ]
     },
     "execution_count": 172,
     "metadata": {},
     "output_type": "execute_result"
    }
   ],
   "source": [
    "generate_analysts(state=state)"
   ]
  },
  {
   "cell_type": "code",
   "execution_count": 200,
   "metadata": {},
   "outputs": [],
   "source": [
    "def human_feedback(state:GenerateAnalystsState):\n",
    "    pass\n",
    "\n",
    "def should_continue(state:GenerateAnalystsState):\n",
    "    human_feedback = state.get(\"human_analyst_feedback\",None)\n",
    "\n",
    "    if human_feedback:\n",
    "        return \"generate_analysts\"\n",
    "    else:\n",
    "        return END\n"
   ]
  },
  {
   "cell_type": "code",
   "execution_count": 226,
   "metadata": {},
   "outputs": [
    {
     "data": {
      "image/png": "[encoded data removed]",
      "text/plain": [
       "<IPython.core.display.Image object>"
      ]
     },
     "metadata": {},
     "output_type": "display_data"
    }
   ],
   "source": [
    "builder = StateGraph(GenerateAnalystsState)\n",
    "\n",
    "builder.add_node(\"generate_analysts\",generate_analysts)\n",
    "builder.add_node(\"human_feedback\",human_feedback)\n",
    "\n",
    "builder.add_edge(START,\"generate_analysts\")\n",
    "builder.add_edge(\"generate_analysts\",\"human_feedback\")\n",
    "builder.add_conditional_edges(\"human_feedback\",should_continue,[\"generate_analysts\",  END])\n",
    "\n",
    "memory = MemorySaver()\n",
    "\n",
    "graph = builder.compile(checkpointer=memory, interrupt_before=[\"human_feedback\"])\n",
    "\n",
    "display(Image(graph.get_graph().draw_mermaid_png()))"
   ]
  },
  {
   "cell_type": "code",
   "execution_count": 227,
   "metadata": {},
   "outputs": [
    {
     "name": "stdout",
     "output_type": "stream",
     "text": [
      "Name: Dr. Anita Sharma\n",
      "Affiliation: University of Delhi\n",
      "Role: Lead Analyst: Socioeconomic Factors\n",
      "Description: Expert in gender studies and education policy\n",
      "--------------------------------------------------\n",
      "Name: Mr. Rajesh Kumar\n",
      "Affiliation: National Council for Teacher Education\n",
      "Role: Analyst: Teacher Training and Development\n",
      "Description: Specialist in teacher training and curriculum development\n",
      "--------------------------------------------------\n",
      "Name: Ms. Priya Iyer\n",
      "Affiliation: Indian Institute of Management Bangalore\n",
      "Role: Analyst: Labor Market Dynamics\n",
      "Description: Expert in workforce trends and demographic analysis\n",
      "--------------------------------------------------\n"
     ]
    }
   ],
   "source": [
    "# Input\n",
    "max_analysts = 3 \n",
    "topic = \"Number of girls entering teaching profession in India\"\n",
    "thread = {\"configurable\": {\"thread_id\": \"1\"}}\n",
    "\n",
    "# Run the graph until the first interruption\n",
    "for event in graph.stream({\"topic\":topic,\"max_analysts\":max_analysts,}, thread, stream_mode=\"values\"):\n",
    "    # Review\n",
    "    analysts = event.get('analysts', '')\n",
    "    if analysts:\n",
    "        for analyst in analysts:\n",
    "            print(f\"Name: {analyst.name}\")\n",
    "            print(f\"Affiliation: {analyst.affiliation}\")\n",
    "            print(f\"Role: {analyst.role}\")\n",
    "            print(f\"Description: {analyst.description}\")\n",
    "            print(\"-\" * 50)  "
   ]
  },
  {
   "cell_type": "code",
   "execution_count": 212,
   "metadata": {},
   "outputs": [
    {
     "data": {
      "text/plain": [
       "{'configurable': {'thread_id': '1',\n",
       "  'checkpoint_ns': '',\n",
       "  'checkpoint_id': '1efe2338-baae-69d5-8002-862bcc1808c6'}}"
      ]
     },
     "execution_count": 212,
     "metadata": {},
     "output_type": "execute_result"
    }
   ],
   "source": [
    "graph.update_state(config=thread,as_node=\"human_feedback\",values={\n",
    "    \"human_analyst_feedback\":\"Add in someone from a startup to add an entrepreneur perspective\"\n",
    "})"
   ]
  },
  {
   "cell_type": "code",
   "execution_count": 214,
   "metadata": {},
   "outputs": [
    {
     "name": "stdout",
     "output_type": "stream",
     "text": [
      "Name: Dr. Emily Carter\n",
      "Affiliation: Stanford University\n",
      "Role: Lead Analyst:  Evaluating the efficiency gains of LangGraph as an agent framework.\n",
      "Description: Expert in natural language processing and knowledge graph technologies.\n",
      "--------------------------------------------------\n",
      "Name: Dr. John Smith\n",
      "Affiliation: Google AI\n",
      "Role: Analyst: Assessing the scalability and maintainability of LangGraph-based agents.\n",
      "Description: Experienced in large language model development and applications.\n",
      "--------------------------------------------------\n",
      "Name: Dr. Alice Johnson\n",
      "Affiliation: University of Oxford\n",
      "Role: Analyst: Investigating the potential of LangGraph for complex problem solving and decision-making.\n",
      "Description: Specializes in agent-based modeling and simulation.\n",
      "--------------------------------------------------\n",
      "Name: Dr. Evelyn Reed\n",
      "Affiliation: LangGraph Inc.\n",
      "Role: Research Scientist\n",
      "Description: Lead researcher focusing on LangGraph's performance and scalability in agent frameworks.\n",
      "--------------------------------------------------\n",
      "Name: Professor Michael Chen\n",
      "Affiliation: Stanford University\n",
      "Role: Academic Expert\n",
      "Description: Professor specializing in AI agent architectures and their applications.\n",
      "--------------------------------------------------\n",
      "Name: Ms. Anya Sharma\n",
      "Affiliation: NovaMind AI\n",
      "Role: Entrepreneur\n",
      "Description: CEO and founder of a startup building AI-powered solutions using LangGraph.\n",
      "--------------------------------------------------\n"
     ]
    }
   ],
   "source": [
    "for event in graph.stream(None, config=thread, stream_mode=\"values\"):\n",
    "    # Review\n",
    "    analysts = event.get('analysts', '')\n",
    "    if analysts:\n",
    "        for analyst in analysts:\n",
    "            print(f\"Name: {analyst.name}\")\n",
    "            print(f\"Affiliation: {analyst.affiliation}\")\n",
    "            print(f\"Role: {analyst.role}\")\n",
    "            print(f\"Description: {analyst.description}\")\n",
    "            print(\"-\" * 50) "
   ]
  },
  {
   "cell_type": "code",
   "execution_count": 228,
   "metadata": {},
   "outputs": [
    {
     "name": "stdout",
     "output_type": "stream",
     "text": [
      "--Node--\n",
      "human_feedback\n"
     ]
    }
   ],
   "source": [
    "# Continue the graph execution to end\n",
    "for event in graph.stream(None, thread, stream_mode=\"updates\"):\n",
    "    print(\"--Node--\")\n",
    "    node_name = next(iter(event.keys()))\n",
    "    print(node_name)"
   ]
  },
  {
   "cell_type": "code",
   "execution_count": 229,
   "metadata": {},
   "outputs": [
    {
     "name": "stdout",
     "output_type": "stream",
     "text": [
      "Name: Dr. Anita Sharma\n",
      "Affiliation: University of Delhi\n",
      "Role: Lead Analyst: Socioeconomic Factors\n",
      "Description: Expert in gender studies and education policy\n",
      "--------------------------------------------------\n",
      "Name: Mr. Rajesh Kumar\n",
      "Affiliation: National Council for Teacher Education\n",
      "Role: Analyst: Teacher Training and Development\n",
      "Description: Specialist in teacher training and curriculum development\n",
      "--------------------------------------------------\n",
      "Name: Ms. Priya Iyer\n",
      "Affiliation: Indian Institute of Management Bangalore\n",
      "Role: Analyst: Labor Market Dynamics\n",
      "Description: Expert in workforce trends and demographic analysis\n",
      "--------------------------------------------------\n"
     ]
    }
   ],
   "source": [
    "final_state = graph.get_state(thread)\n",
    "analysts = final_state.values.get('analysts')\n",
    "for analyst in analysts:\n",
    "    print(f\"Name: {analyst.name}\")\n",
    "    print(f\"Affiliation: {analyst.affiliation}\")\n",
    "    print(f\"Role: {analyst.role}\")\n",
    "    print(f\"Description: {analyst.description}\")\n",
    "    print(\"-\" * 50) "
   ]
  },
  {
   "cell_type": "code",
   "execution_count": 230,
   "metadata": {},
   "outputs": [
    {
     "data": {
      "text/plain": [
       "StateSnapshot(values={'topic': 'Number of girls entering teaching profession in India', 'max_analysts': 3, 'analysts': [Analyst(affiliation='University of Delhi', name='Dr. Anita Sharma', role='Lead Analyst: Socioeconomic Factors', description='Expert in gender studies and education policy'), Analyst(affiliation='National Council for Teacher Education', name='Mr. Rajesh Kumar', role='Analyst: Teacher Training and Development', description='Specialist in teacher training and curriculum development'), Analyst(affiliation='Indian Institute of Management Bangalore', name='Ms. Priya Iyer', role='Analyst: Labor Market Dynamics', description='Expert in workforce trends and demographic analysis')]}, next=(), config={'configurable': {'thread_id': '1', 'checkpoint_ns': '', 'checkpoint_id': '1efe3265-c4f4-6105-8002-8c2133ef2c69'}}, metadata={'source': 'loop', 'writes': {'human_feedback': None}, 'thread_id': '1', 'step': 2, 'parents': {}}, created_at='2025-02-04T18:32:16.873471+00:00', parent_config={'configurable': {'thread_id': '1', 'checkpoint_ns': '', 'checkpoint_id': '1efe3262-e4f7-60e3-8001-4e978c365cc8'}}, tasks=())"
      ]
     },
     "execution_count": 230,
     "metadata": {},
     "output_type": "execute_result"
    }
   ],
   "source": [
    "final_state"
   ]
  },
  {
   "cell_type": "markdown",
   "metadata": {},
   "source": [
    "## Conduct Interview"
   ]
  },
  {
   "cell_type": "code",
   "execution_count": 231,
   "metadata": {},
   "outputs": [],
   "source": [
    "import operator\n",
    "from typing import Annotated\n",
    "from langgraph.graph import MessagesState\n",
    "\n",
    "class InterviewState(MessagesState):\n",
    "    max_num_turns:int = Field(description=\"Maximum number of interview questions to be asked to the analyst.\")\n",
    "    context:Annotated[list[str],operator.add] = Field(description=\"A list of all the source docs\")\n",
    "    analyst:Analyst = Field(description=\"The analyst whic is asking questions\")\n",
    "    interview:str = Field(description=\"Transcript of the interview\")\n",
    "    sections:list[str] = Field(description=\"Final key we duplicate in outer state for Send() API\")\n",
    "\n",
    "\n",
    "class SearchQuery(BaseModel):\n",
    "    search_query: str = Field(None, description=\"Search query for retrieval.\")"
   ]
  },
  {
   "cell_type": "code",
   "execution_count": 232,
   "metadata": {},
   "outputs": [],
   "source": [
    "question_instructions = \"\"\"You are an analyst tasked with interviewing an expert to learn about a specific topic. \n",
    "\n",
    "Your goal is boil down to interesting and specific insights related to your topic.\n",
    "\n",
    "1. Interesting: Insights that people will find surprising or non-obvious.\n",
    "        \n",
    "2. Specific: Insights that avoid generalities and include specific examples from the expert.\n",
    "\n",
    "Here is your topic of focus and set of goals: {goals}\n",
    "        \n",
    "Begin by introducing yourself using a name that fits your persona, and then ask your question.\n",
    "\n",
    "Continue to ask questions to drill down and refine your understanding of the topic.\n",
    "        \n",
    "When you are satisfied with your understanding, complete the interview with: \"Thank you so much for your help!\"\n",
    "\n",
    "Remember to stay in character throughout your response, reflecting the persona and goals provided to you.\"\"\"\n",
    "\n",
    "def generate_question(state: InterviewState):\n",
    "    \"\"\" Node to generate a question \"\"\"\n",
    "\n",
    "    # Get state\n",
    "    analyst = state[\"analyst\"]\n",
    "    messages = state[\"messages\"]\n",
    "\n",
    "    # Generate question \n",
    "    system_message = question_instructions.format(goals=analyst.persona)\n",
    "    question = llm.invoke([SystemMessage(content=system_message)]+messages)\n",
    "        \n",
    "    # Write messages to state\n",
    "    return {\"messages\": [question]}"
   ]
  },
  {
   "cell_type": "markdown",
   "metadata": {},
   "source": [
    "## Answer Generation"
   ]
  },
  {
   "cell_type": "code",
   "execution_count": 233,
   "metadata": {},
   "outputs": [],
   "source": [
    "# Web search tool\n",
    "from langchain_community.tools.tavily_search import TavilySearchResults\n",
    "# Wikipedia search tool\n",
    "from langchain_community.document_loaders import WikipediaLoader\n",
    "tavily_search = TavilySearchResults(max_results=3)"
   ]
  },
  {
   "cell_type": "code",
   "execution_count": 234,
   "metadata": {},
   "outputs": [
    {
     "data": {
      "image/png": "[encoded data removed]",
      "text/plain": [
       "<IPython.core.display.Image object>"
      ]
     },
     "metadata": {},
     "output_type": "display_data"
    }
   ],
   "source": [
    "from langchain_core.messages import get_buffer_string\n",
    "\n",
    "# Search query writing\n",
    "search_instructions = SystemMessage(content=f\"\"\"You will be given a conversation between an analyst and an expert. \n",
    "\n",
    "Your goal is to generate a well-structured query for use in retrieval and / or web-search related to the conversation.\n",
    "        \n",
    "First, analyze the full conversation.\n",
    "\n",
    "Pay particular attention to the final question posed by the analyst.\n",
    "\n",
    "Convert this final question into a well-structured web search query\"\"\")\n",
    "\n",
    "def search_web(state: InterviewState):\n",
    "    \n",
    "    \"\"\" Retrieve docs from web search \"\"\"\n",
    "\n",
    "    # Search query\n",
    "    structured_llm = llm.with_structured_output(SearchQuery)\n",
    "    search_query = structured_llm.invoke([search_instructions]+state['messages'])\n",
    "    \n",
    "    # Search\n",
    "    search_docs = tavily_search.invoke(search_query.search_query)\n",
    "\n",
    "     # Format\n",
    "    formatted_search_docs = \"\\n\\n---\\n\\n\".join(\n",
    "        [\n",
    "            f'<Document href=\"{doc[\"url\"]}\"/>\\n{doc[\"content\"]}\\n</Document>'\n",
    "            for doc in search_docs\n",
    "        ]\n",
    "    )\n",
    "\n",
    "    return {\"context\": [formatted_search_docs]} \n",
    "\n",
    "def search_wikipedia(state: InterviewState):\n",
    "    \n",
    "    \"\"\" Retrieve docs from wikipedia \"\"\"\n",
    "\n",
    "    # Search query\n",
    "    structured_llm = llm.with_structured_output(SearchQuery)\n",
    "    search_query = structured_llm.invoke([search_instructions]+state['messages'])\n",
    "    \n",
    "    # Search\n",
    "    search_docs = WikipediaLoader(query=search_query.search_query, \n",
    "                                  load_max_docs=2).load()\n",
    "\n",
    "     # Format\n",
    "    formatted_search_docs = \"\\n\\n---\\n\\n\".join(\n",
    "        [\n",
    "            f'<Document source=\"{doc.metadata[\"source\"]}\" page=\"{doc.metadata.get(\"page\", \"\")}\"/>\\n{doc.page_content}\\n</Document>'\n",
    "            for doc in search_docs\n",
    "        ]\n",
    "    )\n",
    "\n",
    "    return {\"context\": [formatted_search_docs]} \n",
    "\n",
    "answer_instructions = \"\"\"You are an expert being interviewed by an analyst.\n",
    "\n",
    "Here is analyst area of focus: {goals}. \n",
    "        \n",
    "You goal is to answer a question posed by the interviewer.\n",
    "\n",
    "To answer question, use this context:\n",
    "        \n",
    "{context}\n",
    "\n",
    "When answering questions, follow these guidelines:\n",
    "        \n",
    "1. Use only the information provided in the context. \n",
    "        \n",
    "2. Do not introduce external information or make assumptions beyond what is explicitly stated in the context.\n",
    "\n",
    "3. The context contain sources at the topic of each individual document.\n",
    "\n",
    "4. Include these sources your answer next to any relevant statements. For example, for source # 1 use [1]. \n",
    "\n",
    "5. List your sources in order at the bottom of your answer. [1] Source 1, [2] Source 2, etc\n",
    "        \n",
    "6. If the source is: <Document source=\"assistant/docs/llama3_1.pdf\" page=\"7\"/>' then just list: \n",
    "        \n",
    "[1] assistant/docs/llama3_1.pdf, page 7 \n",
    "        \n",
    "And skip the addition of the brackets as well as the Document source preamble in your citation.\"\"\"\n",
    "\n",
    "def generate_answer(state: InterviewState):\n",
    "    \n",
    "    \"\"\" Node to answer a question \"\"\"\n",
    "\n",
    "    # Get state\n",
    "    analyst = state[\"analyst\"]\n",
    "    messages = state[\"messages\"]\n",
    "    context = state[\"context\"]\n",
    "\n",
    "    # Answer question\n",
    "    system_message = answer_instructions.format(goals=analyst.persona, context=context)\n",
    "    answer = llm.invoke([SystemMessage(content=system_message)]+messages)\n",
    "            \n",
    "    # Name the message as coming from the expert\n",
    "    answer.name = \"expert\"\n",
    "    \n",
    "    # Append it to state\n",
    "    return {\"messages\": [answer]}\n",
    "\n",
    "def save_interview(state: InterviewState):\n",
    "    \n",
    "    \"\"\" Save interviews \"\"\"\n",
    "\n",
    "    # Get messages\n",
    "    messages = state[\"messages\"]\n",
    "    \n",
    "    # Convert interview to a string\n",
    "    interview = get_buffer_string(messages)\n",
    "    \n",
    "    # Save to interviews key\n",
    "    return {\"interview\": interview}\n",
    "\n",
    "def route_messages(state: InterviewState, \n",
    "                   name: str = \"expert\"):\n",
    "\n",
    "    \"\"\" Route between question and answer \"\"\"\n",
    "    \n",
    "    # Get messages\n",
    "    messages = state[\"messages\"]\n",
    "    max_num_turns = state.get('max_num_turns',2)\n",
    "\n",
    "    # Check the number of expert answers \n",
    "    num_responses = len(\n",
    "        [m for m in messages if isinstance(m, AIMessage) and m.name == name]\n",
    "    )\n",
    "\n",
    "    # End if expert has answered more than the max turns\n",
    "    if num_responses >= max_num_turns:\n",
    "        return 'save_interview'\n",
    "\n",
    "    # This router is run after each question - answer pair \n",
    "    # Get the last question asked to check if it signals the end of discussion\n",
    "    last_question = messages[-2]\n",
    "    \n",
    "    if \"Thank you so much for your help\" in last_question.content:\n",
    "        return 'save_interview'\n",
    "    return \"ask_question\"\n",
    "\n",
    "section_writer_instructions = \"\"\"You are an expert technical writer. \n",
    "            \n",
    "Your task is to create a short, easily digestible section of a report based on a set of source documents.\n",
    "\n",
    "1. Analyze the content of the source documents: \n",
    "- The name of each source document is at the start of the document, with the <Document tag.\n",
    "        \n",
    "2. Create a report structure using markdown formatting:\n",
    "- Use ## for the section title\n",
    "- Use ### for sub-section headers\n",
    "        \n",
    "3. Write the report following this structure:\n",
    "a. Title (## header)\n",
    "b. Summary (### header)\n",
    "c. Sources (### header)\n",
    "\n",
    "4. Make your title engaging based upon the focus area of the analyst: \n",
    "{focus}\n",
    "\n",
    "5. For the summary section:\n",
    "- Set up summary with general background / context related to the focus area of the analyst\n",
    "- Emphasize what is novel, interesting, or surprising about insights gathered from the interview\n",
    "- Create a numbered list of source documents, as you use them\n",
    "- Do not mention the names of interviewers or experts\n",
    "- Aim for approximately 400 words maximum\n",
    "- Use numbered sources in your report (e.g., [1], [2]) based on information from source documents\n",
    "        \n",
    "6. In the Sources section:\n",
    "- Include all sources used in your report\n",
    "- Provide full links to relevant websites or specific document paths\n",
    "- Separate each source by a newline. Use two spaces at the end of each line to create a newline in Markdown.\n",
    "- It will look like:\n",
    "\n",
    "### Sources\n",
    "[1] Link or Document name\n",
    "[2] Link or Document name\n",
    "\n",
    "7. Be sure to combine sources. For example this is not correct:\n",
    "\n",
    "[3] https://ai.meta.com/blog/meta-llama-3-1/\n",
    "[4] https://ai.meta.com/blog/meta-llama-3-1/\n",
    "\n",
    "There should be no redundant sources. It should simply be:\n",
    "\n",
    "[3] https://ai.meta.com/blog/meta-llama-3-1/\n",
    "        \n",
    "8. Final review:\n",
    "- Ensure the report follows the required structure\n",
    "- Include no preamble before the title of the report\n",
    "- Check that all guidelines have been followed\"\"\"\n",
    "\n",
    "def write_section(state: InterviewState):\n",
    "\n",
    "    \"\"\" Node to answer a question \"\"\"\n",
    "\n",
    "    # Get state\n",
    "    interview = state[\"interview\"]\n",
    "    context = state[\"context\"]\n",
    "    analyst = state[\"analyst\"]\n",
    "   \n",
    "    # Write section using either the gathered source docs from interview (context) or the interview itself (interview)\n",
    "    system_message = section_writer_instructions.format(focus=analyst.description)\n",
    "    section = llm.invoke([SystemMessage(content=system_message)]+[HumanMessage(content=f\"Use this source to write your section: {context}\")]) \n",
    "                \n",
    "    # Append it to state\n",
    "    return {\"sections\": [section.content]}\n",
    "\n",
    "# Add nodes and edges \n",
    "interview_builder = StateGraph(InterviewState)\n",
    "interview_builder.add_node(\"ask_question\", generate_question)\n",
    "interview_builder.add_node(\"search_web\", search_web)\n",
    "interview_builder.add_node(\"search_wikipedia\", search_wikipedia)\n",
    "interview_builder.add_node(\"answer_question\", generate_answer)\n",
    "interview_builder.add_node(\"save_interview\", save_interview)\n",
    "interview_builder.add_node(\"write_section\", write_section)\n",
    "\n",
    "# Flow\n",
    "interview_builder.add_edge(START, \"ask_question\")\n",
    "interview_builder.add_edge(\"ask_question\", \"search_web\")\n",
    "interview_builder.add_edge(\"ask_question\", \"search_wikipedia\")\n",
    "interview_builder.add_edge(\"search_web\", \"answer_question\")\n",
    "interview_builder.add_edge(\"search_wikipedia\", \"answer_question\")\n",
    "interview_builder.add_conditional_edges(\"answer_question\", route_messages,['ask_question','save_interview'])\n",
    "interview_builder.add_edge(\"save_interview\", \"write_section\")\n",
    "interview_builder.add_edge(\"write_section\", END)\n",
    "\n",
    "# Interview \n",
    "memory = MemorySaver()\n",
    "interview_graph = interview_builder.compile(checkpointer=memory).with_config(run_name=\"Conduct Interviews\")\n",
    "\n",
    "# View\n",
    "display(Image(interview_graph.get_graph().draw_mermaid_png()))"
   ]
  },
  {
   "cell_type": "code",
   "execution_count": 235,
   "metadata": {},
   "outputs": [
    {
     "data": {
      "text/markdown": [
       "##  India's Evolving Educational Landscape: Women Teachers Leading the Way\n",
       "\n",
       "### Summary\n",
       "\n",
       "The educational landscape in India is experiencing a significant shift, particularly concerning the participation and roles of women. While historical and ongoing gender disparities persist in access to and completion of education [1, 3], a compelling trend has emerged: a substantial increase in the number of women employed as teachers, especially at the primary school level [2].  This is not simply a matter of more women entering the profession; rather, it represents a substantial majority.  Data indicates that women now constitute over half (53.3%) of all school teachers in India [4], marking a historic high. This surge in female representation in teaching contrasts with the broader trends in women's employment, where older women with lower levels of education are often leaving the workforce [5].  This suggests that teaching is an attractive career path for women, particularly those with higher education levels [5].  While the 1986 National Policy on Education recommended increased female representation in secondary schools [6], the current reality surpasses this goal, and extends to primary education where women are significantly more prevalent than men in this profession [2].  The increasing presence of women in education, particularly in teaching, presents a fascinating case study in the intersection of gender, education policy, and workforce dynamics in India. This trend requires further investigation to understand its implications for educational quality, gender equality, and overall societal development.\n",
       "\n",
       "\n",
       "1. [1] https://www.researchgate.net/publication/381284005_Women's_Employment_and_Education_Trends_in_India_After_1991\n",
       "2. [2] https://mospi.gov.in/sites/default/files/publication_reports/women-men22/EducationStatistics22.pdf\n",
       "3. [3] https://www.indiatoday.in/education-today/featurephilia/story/understanding-the-gender-disparities-in-indian-education-2579174-2024-08-14\n",
       "4. [4] https://www.indiatoday.in/education-today/news/story/female-teachers-now-lead-indias-school-education-workforce-education-report-2660385-2025-01-06\n",
       "5. [5] https://www.orfonline.org/expert-speak/the-female-workforce-in-india-emerging-trends-and-insights\n",
       "6. [6] https://utoronto.scholaris.ca/items/74707a1a-81bf-41e6-91f4-6102fc82df16\n",
       "\n",
       "\n",
       "### Sources\n",
       "[1] https://www.researchgate.net/publication/381284005_Women's_Employment_and_Education_Trends_in_India_After_1991  \n",
       "[2] https://mospi.gov.in/sites/default/files/publication_reports/women-men22/EducationStatistics22.pdf  \n",
       "[3] https://www.indiatoday.in/education-today/featurephilia/story/understanding-the-gender-disparities-in-indian-education-2579174-2024-08-14  \n",
       "[4] https://www.indiatoday.in/education-today/news/story/female-teachers-now-lead-indias-school-education-workforce-education-report-2660385-2025-01-06  \n",
       "[5] https://www.orfonline.org/expert-speak/the-female-workforce-in-india-emerging-trends-and-insights  \n",
       "[6] https://utoronto.scholaris.ca/items/74707a1a-81bf-41e6-91f4-6102fc82df16"
      ],
      "text/plain": [
       "<IPython.core.display.Markdown object>"
      ]
     },
     "execution_count": 235,
     "metadata": {},
     "output_type": "execute_result"
    }
   ],
   "source": [
    "from IPython.display import Markdown\n",
    "messages = [HumanMessage(f\"So you said you were writing an article on {topic}?\")]\n",
    "thread = {\"configurable\": {\"thread_id\": \"1\"}}\n",
    "interview = interview_graph.invoke({\"analyst\": analysts[0], \"messages\": messages, \"max_num_turns\": 2}, thread)\n",
    "Markdown(interview['sections'][0])"
   ]
  },
  {
   "cell_type": "markdown",
   "metadata": {},
   "source": []
  }
 ],
 "metadata": {
  "kernelspec": {
   "display_name": "langgraph",
   "language": "python",
   "name": "python3"
  },
  "language_info": {
   "codemirror_mode": {
    "name": "ipython",
    "version": 3
   },
   "file_extension": ".py",
   "mimetype": "text/x-python",
   "name": "python",
   "nbconvert_exporter": "python",
   "pygments_lexer": "ipython3",
   "version": "3.13.1"
  }
 },
 "nbformat": 4,
 "nbformat_minor": 2
}
