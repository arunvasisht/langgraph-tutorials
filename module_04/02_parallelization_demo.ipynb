{
 "cells": [
  {
   "cell_type": "markdown",
   "metadata": {},
   "source": [
    "##### Gather content from two external sources and have an LLM answer a question - Wikipedia and Web-Search"
   ]
  },
  {
   "cell_type": "markdown",
   "metadata": {},
   "source": []
  },
  {
   "cell_type": "code",
   "execution_count": 57,
   "metadata": {},
   "outputs": [],
   "source": [
    "from langchain_google_genai import ChatGoogleGenerativeAI\n",
    "from langchain_core.messages import SystemMessage, HumanMessage\n",
    "from dotenv import load_dotenv\n",
    "load_dotenv()\n",
    "\n",
    "llm = ChatGoogleGenerativeAI(model=\"gemini-1.5-flash\")"
   ]
  },
  {
   "cell_type": "code",
   "execution_count": 34,
   "metadata": {},
   "outputs": [
    {
     "data": {
      "text/plain": [
       "[Document(metadata={'title': 'Outlaw Country (2012 film)', 'summary': 'Outlaw Country is a 2012 American television film directed by Adam Arkin and Michael Dinner and starring Mary Steenburgen and John Hawkes.  It was intended to be a television pilot but the series was not picked up.\\n\\n', 'source': 'https://en.wikipedia.org/wiki/Outlaw_Country_(2012_film)'}, page_content=\"Outlaw Country is a 2012 American television film directed by Adam Arkin and Michael Dinner and starring Mary Steenburgen and John Hawkes.  It was intended to be a television pilot but the series was not picked up.\\n\\n\\n== Premise ==\\nA crime thriller and family drama set against the backdrop of southern organized crime and Nashville royalty, where music, love, hope and tragedy collide.\\n\\n\\n== Cast ==\\nMary Steenburgen as Anastasia Lee\\nLuke Grimes as Eli Larkin\\nHaley Bennett as Annabel Lee\\nJohn Hawkes as Tarzen Larkin\\nFrank Hoyt Taylor as Jackman Folcum\\nJohn-Paul Howard as Jonny\\nRon Prather as Sheriff Boyle\\nJim O'Rear as Deputy Sheriff Reese\\nTodd Bush as Deputy Sheriff\\nJohnny Whitworth as Ajax\\nMarc Allen as Deputy Sheriff\\nBruce McKinnon as Trevor\\n\\n\\n== References ==\\n\\n\\n== External links ==\\nOutlaw Country at IMDb\"),\n",
       " Document(metadata={'title': 'John Hawkes (actor)', 'summary': \"John Hawkes  is an American actor. He is the recipient of two Independent Spirit Awards and has been nominated for an Academy Award, two Primetime Emmy Awards and a Golden Globe Award.\\nHawkes is known for his roles in the films Winter's Bone (2010) and The Sessions (2012), for which he was nominated for an Academy Award for Best Supporting Actor and a Golden Globe Award for Best Actor – Motion Picture Drama, respectively. Some of his other film credits include From Dusk till Dawn (1996), The Perfect Storm (2000), Me and You and Everyone We Know (2005), American Gangster (2007), Martha Marcy May Marlene (2011), Lincoln (2012) and Three Billboards Outside Ebbing, Missouri (2017). He has also appeared in many television series, notably Deadwood (2004–2006) and Eastbound & Down (2009–2013), as well as the fourth season of True Detective (2024).\", 'source': 'https://en.wikipedia.org/wiki/John_Hawkes_(actor)'}, page_content='John Hawkes  is an American actor. He is the recipient of two Independent Spirit Awards and has been nominated for an Academy Award, two Primetime Emmy Awards and a Golden Globe Award.\\nHawkes is known for his roles in the films Winter\\'s Bone (2010) and The Sessions (2012), for which he was nominated for an Academy Award for Best Supporting Actor and a Golden Globe Award for Best Actor – Motion Picture Drama, respectively. Some of his other film credits include From Dusk till Dawn (1996), The Perfect Storm (2000), Me and You and Everyone We Know (2005), American Gangster (2007), Martha Marcy May Marlene (2011), Lincoln (2012) and Three Billboards Outside Ebbing, Missouri (2017). He has also appeared in many television series, notably Deadwood (2004–2006) and Eastbound & Down (2009–2013), as well as the fourth season of True Detective (2024).\\n\\n\\n== Early life ==\\nHawkes is the son of Patricia Jeanne (née Olson) and Peter John \"Pete\" Perkins, a farmer of wheat, corn, hogs and cattle.  He was raised in a \"pastoral, small city... a midwest Scandinavian community.\" Hawkes graduated from Jefferson High School and moved to Austin, Texas, where he was a member of the bands Meat Joy, with Gretchen Phillips, and King Straggler, with fellow actors Rodney Eastman and Brentley Gore.\\n\\n\\n== Career ==\\nHis first film role was in Future-Kill (1985), credited as John Perkins. He changed his stage name to John Hawkes because there was another actor named John Perkins.\\nHawkes played the role of Greg Penticoff in season 1 of 24. From 2004 to 2006, Hawkes played merchant Sol Star on the HBO series Deadwood. He portrayed Dustin Powers, brother of protagonist Kenny Powers, on all four seasons of the HBO series Eastbound & Down, and played Lennon on ABC\\'s Lost.\\nHis other film roles include Me and You and Everyone We Know, The Perfect Storm, American Gangster, Wristcutters: A Love Story, Martha Marcy May Marlene, and Lincoln.\\nIn 2011, he was nominated for an Academy Award for Best Supporting Actor for his performance in Winter\\'s Bone, as well as for a number of other awards, including the Screen Actors Guild Award for Outstanding Performance by a Male Actor in a Supporting Role. He won the Independent Spirit Award for Best Supporting Male. Also in 2011, Hawkes was honored with a Rising Star Award by the Texas Film Hall of Fame. Hawkes was offered the role of The Governor in AMC\\'s horror-drama series The Walking Dead. He turned it down feeling he was not the right fit for the role. The role eventually went to David Morrissey.\\nIn 2012, the film The Sessions was considered one of the Sundance breakout hits of that year. Hawkes received two prolonged standing ovations at the film\\'s screening. It was praised by critics at the festival as \"accessible, enjoyable, and light-hearted\".\\nIn 2016, it was announced that Hawkes would star in the Amazon pilot The Legend of Master Legend, which is based on the popular real-life superhero Master Legend.\\nAlong with cast members, Hawkes expressed interest in reprising his role as Sol Star in a proposed Deadwood film. Deadwood: The Movie began production in October 2018, and premiered on May 31, 2019. Hawkes, along with virtually the entire series cast, took part in it.\\nHawkes had a small role as a robber in the music video for the cover version of the song \"Crying in the Rain\" by A-ha in 1990.\\n\\n\\n== Filmography ==\\n\\n\\n=== Film ===\\n\\n\\n=== Television ===\\n\\n\\n== References ==\\n\\n\\n== External links ==\\n\\nJohn Hawkes at IMDb\\nJohn Hawkes Producer Profile for The 1 Second Film\\nJohn Hawkes discography at Discogs'),\n",
       " Document(metadata={'title': 'Mammadgulu Shushinski', 'summary': 'Mammadgulu Shushinski or Dabbakh Mammadgulu (Azerbaijani: Məmmədqulu Şuşinski or Dabbax Məmmədqulu, 1874 – March 1929) was a 19th–20th century Azerbaijani singer-khananda, representative of the Karabakh mugham school.', 'source': 'https://en.wikipedia.org/wiki/Mammadgulu_Shushinski'}, page_content='Mammadgulu Shushinski or Dabbakh Mammadgulu (Azerbaijani: Məmmədqulu Şuşinski or Dabbax Məmmədqulu, 1874 – March 1929) was a 19th–20th century Azerbaijani singer-khananda, representative of the Karabakh mugham school.\\n\\n\\n== Biography ==\\nMammadgulu was born in 1874 in the Gurdlar neighborhood in Shusha, in the family of a tanner. He was called by the nickname \"Dabbakh (tanner) Mammadgulu\" because he was engaged in tanning like his family. Mammadgulu, who received his first education in the cell of Kor Khalifa in Shusha, joined the troupe of the tarzen Shushulu Grikor. Mammadgulu, who was sent by his father to the school of Mir Mohsun Navvab, studied mugham for three years there, and at the age of 19, he began to sing in Karabakh music gatherings. When he was 20 years old, he participated in parties with the tarzen Grikor, the accordion player Isi Bey, and sang \"Karabakh Shikastasi\" in his own way.\\nIn 1913, Mammadgulu, who was invited to Kyiv by the \"Ekstrafon\" joint stock company together with Shakili Alasgar, Kechachioghlu Muhammed, Islam Abdullayev, Seyid Shushinski, accompanied by tarzen Arsen Yaramishev and kamancha player Moses Quliyans, recorded the mughams \"Bayati-Kurd\", \"Zabul-Segah\", \"Kurdu-Shahnaz\", \"Qatar\", \"Hasar\", \"Mukhalif\", \"Karabakh Shikastasi, \"Heyrati\" and \"Akhsham oldu\" classification on the gramophone shafts.\\nKhananda Mammadgulu Shushinski died in March 1929 in Shusha at the age of 55.\\n\\n\\n== References ==')]"
      ]
     },
     "execution_count": 34,
     "metadata": {},
     "output_type": "execute_result"
    }
   ],
   "source": [
    "# Test Wikipedia Loader\n",
    "from langchain_community.document_loaders import WikipediaLoader\n",
    "\n",
    "docs = WikipediaLoader(query=\"Tarzen\", load_max_docs=3).load()\n",
    "docs"
   ]
  },
  {
   "cell_type": "code",
   "execution_count": 49,
   "metadata": {},
   "outputs": [
    {
     "name": "stdout",
     "output_type": "stream",
     "text": [
      "page_content='Outlaw Country is a 2012 American television film directed by Adam Arkin and Michael Dinner and starring Mary Steenburgen and John Hawkes.  It was intended to be a television pilot but the series was not picked up.\n",
      "\n",
      "\n",
      "== Premise ==\n",
      "A crime thriller and family drama set against the backdrop of southern organized crime and Nashville royalty, where music, love, hope and tragedy collide.\n",
      "\n",
      "\n",
      "== Cast ==\n",
      "Mary Steenburgen as Anastasia Lee\n",
      "Luke Grimes as Eli Larkin\n",
      "Haley Bennett as Annabel Lee\n",
      "John Hawkes as Tarzen Larkin\n",
      "Frank Hoyt Taylor as Jackman Folcum\n",
      "John-Paul Howard as Jonny\n",
      "Ron Prather as Sheriff Boyle\n",
      "Jim O'Rear as Deputy Sheriff Reese\n",
      "Todd Bush as Deputy Sheriff\n",
      "Johnny Whitworth as Ajax\n",
      "Marc Allen as Deputy Sheriff\n",
      "Bruce McKinnon as Trevor\n",
      "\n",
      "\n",
      "== References ==\n",
      "\n",
      "\n",
      "== External links ==\n",
      "Outlaw Country at IMDb' metadata={'title': 'Outlaw Country (2012 film)', 'summary': 'Outlaw Country is a 2012 American television film directed by Adam Arkin and Michael Dinner and starring Mary Steenburgen and John Hawkes.  It was intended to be a television pilot but the series was not picked up.\\n\\n', 'source': 'https://en.wikipedia.org/wiki/Outlaw_Country_(2012_film)'}\n",
      "page_content='John Hawkes  is an American actor. He is the recipient of two Independent Spirit Awards and has been nominated for an Academy Award, two Primetime Emmy Awards and a Golden Globe Award.\n",
      "Hawkes is known for his roles in the films Winter's Bone (2010) and The Sessions (2012), for which he was nominated for an Academy Award for Best Supporting Actor and a Golden Globe Award for Best Actor – Motion Picture Drama, respectively. Some of his other film credits include From Dusk till Dawn (1996), The Perfect Storm (2000), Me and You and Everyone We Know (2005), American Gangster (2007), Martha Marcy May Marlene (2011), Lincoln (2012) and Three Billboards Outside Ebbing, Missouri (2017). He has also appeared in many television series, notably Deadwood (2004–2006) and Eastbound & Down (2009–2013), as well as the fourth season of True Detective (2024).\n",
      "\n",
      "\n",
      "== Early life ==\n",
      "Hawkes is the son of Patricia Jeanne (née Olson) and Peter John \"Pete\" Perkins, a farmer of wheat, corn, hogs and cattle.  He was raised in a \"pastoral, small city... a midwest Scandinavian community.\" Hawkes graduated from Jefferson High School and moved to Austin, Texas, where he was a member of the bands Meat Joy, with Gretchen Phillips, and King Straggler, with fellow actors Rodney Eastman and Brentley Gore.\n",
      "\n",
      "\n",
      "== Career ==\n",
      "His first film role was in Future-Kill (1985), credited as John Perkins. He changed his stage name to John Hawkes because there was another actor named John Perkins.\n",
      "Hawkes played the role of Greg Penticoff in season 1 of 24. From 2004 to 2006, Hawkes played merchant Sol Star on the HBO series Deadwood. He portrayed Dustin Powers, brother of protagonist Kenny Powers, on all four seasons of the HBO series Eastbound & Down, and played Lennon on ABC's Lost.\n",
      "His other film roles include Me and You and Everyone We Know, The Perfect Storm, American Gangster, Wristcutters: A Love Story, Martha Marcy May Marlene, and Lincoln.\n",
      "In 2011, he was nominated for an Academy Award for Best Supporting Actor for his performance in Winter's Bone, as well as for a number of other awards, including the Screen Actors Guild Award for Outstanding Performance by a Male Actor in a Supporting Role. He won the Independent Spirit Award for Best Supporting Male. Also in 2011, Hawkes was honored with a Rising Star Award by the Texas Film Hall of Fame. Hawkes was offered the role of The Governor in AMC's horror-drama series The Walking Dead. He turned it down feeling he was not the right fit for the role. The role eventually went to David Morrissey.\n",
      "In 2012, the film The Sessions was considered one of the Sundance breakout hits of that year. Hawkes received two prolonged standing ovations at the film's screening. It was praised by critics at the festival as \"accessible, enjoyable, and light-hearted\".\n",
      "In 2016, it was announced that Hawkes would star in the Amazon pilot The Legend of Master Legend, which is based on the popular real-life superhero Master Legend.\n",
      "Along with cast members, Hawkes expressed interest in reprising his role as Sol Star in a proposed Deadwood film. Deadwood: The Movie began production in October 2018, and premiered on May 31, 2019. Hawkes, along with virtually the entire series cast, took part in it.\n",
      "Hawkes had a small role as a robber in the music video for the cover version of the song \"Crying in the Rain\" by A-ha in 1990.\n",
      "\n",
      "\n",
      "== Filmography ==\n",
      "\n",
      "\n",
      "=== Film ===\n",
      "\n",
      "\n",
      "=== Television ===\n",
      "\n",
      "\n",
      "== References ==\n",
      "\n",
      "\n",
      "== External links ==\n",
      "\n",
      "John Hawkes at IMDb\n",
      "John Hawkes Producer Profile for The 1 Second Film\n",
      "John Hawkes discography at Discogs' metadata={'title': 'John Hawkes (actor)', 'summary': \"John Hawkes  is an American actor. He is the recipient of two Independent Spirit Awards and has been nominated for an Academy Award, two Primetime Emmy Awards and a Golden Globe Award.\\nHawkes is known for his roles in the films Winter's Bone (2010) and The Sessions (2012), for which he was nominated for an Academy Award for Best Supporting Actor and a Golden Globe Award for Best Actor – Motion Picture Drama, respectively. Some of his other film credits include From Dusk till Dawn (1996), The Perfect Storm (2000), Me and You and Everyone We Know (2005), American Gangster (2007), Martha Marcy May Marlene (2011), Lincoln (2012) and Three Billboards Outside Ebbing, Missouri (2017). He has also appeared in many television series, notably Deadwood (2004–2006) and Eastbound & Down (2009–2013), as well as the fourth season of True Detective (2024).\", 'source': 'https://en.wikipedia.org/wiki/John_Hawkes_(actor)'}\n",
      "page_content='Mammadgulu Shushinski or Dabbakh Mammadgulu (Azerbaijani: Məmmədqulu Şuşinski or Dabbax Məmmədqulu, 1874 – March 1929) was a 19th–20th century Azerbaijani singer-khananda, representative of the Karabakh mugham school.\n",
      "\n",
      "\n",
      "== Biography ==\n",
      "Mammadgulu was born in 1874 in the Gurdlar neighborhood in Shusha, in the family of a tanner. He was called by the nickname \"Dabbakh (tanner) Mammadgulu\" because he was engaged in tanning like his family. Mammadgulu, who received his first education in the cell of Kor Khalifa in Shusha, joined the troupe of the tarzen Shushulu Grikor. Mammadgulu, who was sent by his father to the school of Mir Mohsun Navvab, studied mugham for three years there, and at the age of 19, he began to sing in Karabakh music gatherings. When he was 20 years old, he participated in parties with the tarzen Grikor, the accordion player Isi Bey, and sang \"Karabakh Shikastasi\" in his own way.\n",
      "In 1913, Mammadgulu, who was invited to Kyiv by the \"Ekstrafon\" joint stock company together with Shakili Alasgar, Kechachioghlu Muhammed, Islam Abdullayev, Seyid Shushinski, accompanied by tarzen Arsen Yaramishev and kamancha player Moses Quliyans, recorded the mughams \"Bayati-Kurd\", \"Zabul-Segah\", \"Kurdu-Shahnaz\", \"Qatar\", \"Hasar\", \"Mukhalif\", \"Karabakh Shikastasi, \"Heyrati\" and \"Akhsham oldu\" classification on the gramophone shafts.\n",
      "Khananda Mammadgulu Shushinski died in March 1929 in Shusha at the age of 55.\n",
      "\n",
      "\n",
      "== References ==' metadata={'title': 'Mammadgulu Shushinski', 'summary': 'Mammadgulu Shushinski or Dabbakh Mammadgulu (Azerbaijani: Məmmədqulu Şuşinski or Dabbax Məmmədqulu, 1874 – March 1929) was a 19th–20th century Azerbaijani singer-khananda, representative of the Karabakh mugham school.', 'source': 'https://en.wikipedia.org/wiki/Mammadgulu_Shushinski'}\n"
     ]
    }
   ],
   "source": [
    "for doc in docs:\n",
    "    print(doc)"
   ]
  },
  {
   "cell_type": "code",
   "execution_count": 54,
   "metadata": {},
   "outputs": [
    {
     "name": "stdout",
     "output_type": "stream",
     "text": [
      "<Document href=\"https://en.wikipedia.org/wiki/Outlaw_Country_(2012_film)\">\n",
      "Outlaw Country is a 2012 American television film directed by Adam Arkin and Michael Dinner and starring Mary Steenburgen and John Hawkes.  It was intended to be a television pilot but the series was not picked up.\n",
      "\n",
      "\n",
      "== Premise ==\n",
      "A crime thriller and family drama set against the backdrop of southern organized crime and Nashville royalty, where music, love, hope and tragedy collide.\n",
      "\n",
      "\n",
      "== Cast ==\n",
      "Mary Steenburgen as Anastasia Lee\n",
      "Luke Grimes as Eli Larkin\n",
      "Haley Bennett as Annabel Lee\n",
      "John Hawkes as Tarzen Larkin\n",
      "Frank Hoyt Taylor as Jackman Folcum\n",
      "John-Paul Howard as Jonny\n",
      "Ron Prather as Sheriff Boyle\n",
      "Jim O'Rear as Deputy Sheriff Reese\n",
      "Todd Bush as Deputy Sheriff\n",
      "Johnny Whitworth as Ajax\n",
      "Marc Allen as Deputy Sheriff\n",
      "Bruce McKinnon as Trevor\n",
      "\n",
      "\n",
      "== References ==\n",
      "\n",
      "\n",
      "== External links ==\n",
      "Outlaw Country at IMDb\n",
      "</Document>\n",
      "\n",
      "---\n",
      "\n",
      "<Document href=\"https://en.wikipedia.org/wiki/John_Hawkes_(actor)\">\n",
      "John Hawkes  is an American actor. He is the recipient of two Independent Spirit Awards and has been nominated for an Academy Award, two Primetime Emmy Awards and a Golden Globe Award.\n",
      "Hawkes is known for his roles in the films Winter's Bone (2010) and The Sessions (2012), for which he was nominated for an Academy Award for Best Supporting Actor and a Golden Globe Award for Best Actor – Motion Picture Drama, respectively. Some of his other film credits include From Dusk till Dawn (1996), The Perfect Storm (2000), Me and You and Everyone We Know (2005), American Gangster (2007), Martha Marcy May Marlene (2011), Lincoln (2012) and Three Billboards Outside Ebbing, Missouri (2017). He has also appeared in many television series, notably Deadwood (2004–2006) and Eastbound & Down (2009–2013), as well as the fourth season of True Detective (2024).\n",
      "\n",
      "\n",
      "== Early life ==\n",
      "Hawkes is the son of Patricia Jeanne (née Olson) and Peter John \"Pete\" Perkins, a farmer of wheat, corn, hogs and cattle.  He was raised in a \"pastoral, small city... a midwest Scandinavian community.\" Hawkes graduated from Jefferson High School and moved to Austin, Texas, where he was a member of the bands Meat Joy, with Gretchen Phillips, and King Straggler, with fellow actors Rodney Eastman and Brentley Gore.\n",
      "\n",
      "\n",
      "== Career ==\n",
      "His first film role was in Future-Kill (1985), credited as John Perkins. He changed his stage name to John Hawkes because there was another actor named John Perkins.\n",
      "Hawkes played the role of Greg Penticoff in season 1 of 24. From 2004 to 2006, Hawkes played merchant Sol Star on the HBO series Deadwood. He portrayed Dustin Powers, brother of protagonist Kenny Powers, on all four seasons of the HBO series Eastbound & Down, and played Lennon on ABC's Lost.\n",
      "His other film roles include Me and You and Everyone We Know, The Perfect Storm, American Gangster, Wristcutters: A Love Story, Martha Marcy May Marlene, and Lincoln.\n",
      "In 2011, he was nominated for an Academy Award for Best Supporting Actor for his performance in Winter's Bone, as well as for a number of other awards, including the Screen Actors Guild Award for Outstanding Performance by a Male Actor in a Supporting Role. He won the Independent Spirit Award for Best Supporting Male. Also in 2011, Hawkes was honored with a Rising Star Award by the Texas Film Hall of Fame. Hawkes was offered the role of The Governor in AMC's horror-drama series The Walking Dead. He turned it down feeling he was not the right fit for the role. The role eventually went to David Morrissey.\n",
      "In 2012, the film The Sessions was considered one of the Sundance breakout hits of that year. Hawkes received two prolonged standing ovations at the film's screening. It was praised by critics at the festival as \"accessible, enjoyable, and light-hearted\".\n",
      "In 2016, it was announced that Hawkes would star in the Amazon pilot The Legend of Master Legend, which is based on the popular real-life superhero Master Legend.\n",
      "Along with cast members, Hawkes expressed interest in reprising his role as Sol Star in a proposed Deadwood film. Deadwood: The Movie began production in October 2018, and premiered on May 31, 2019. Hawkes, along with virtually the entire series cast, took part in it.\n",
      "Hawkes had a small role as a robber in the music video for the cover version of the song \"Crying in the Rain\" by A-ha in 1990.\n",
      "\n",
      "\n",
      "== Filmography ==\n",
      "\n",
      "\n",
      "=== Film ===\n",
      "\n",
      "\n",
      "=== Television ===\n",
      "\n",
      "\n",
      "== References ==\n",
      "\n",
      "\n",
      "== External links ==\n",
      "\n",
      "John Hawkes at IMDb\n",
      "John Hawkes Producer Profile for The 1 Second Film\n",
      "John Hawkes discography at Discogs\n",
      "</Document>\n",
      "\n",
      "---\n",
      "\n",
      "<Document href=\"https://en.wikipedia.org/wiki/Mammadgulu_Shushinski\">\n",
      "Mammadgulu Shushinski or Dabbakh Mammadgulu (Azerbaijani: Məmmədqulu Şuşinski or Dabbax Məmmədqulu, 1874 – March 1929) was a 19th–20th century Azerbaijani singer-khananda, representative of the Karabakh mugham school.\n",
      "\n",
      "\n",
      "== Biography ==\n",
      "Mammadgulu was born in 1874 in the Gurdlar neighborhood in Shusha, in the family of a tanner. He was called by the nickname \"Dabbakh (tanner) Mammadgulu\" because he was engaged in tanning like his family. Mammadgulu, who received his first education in the cell of Kor Khalifa in Shusha, joined the troupe of the tarzen Shushulu Grikor. Mammadgulu, who was sent by his father to the school of Mir Mohsun Navvab, studied mugham for three years there, and at the age of 19, he began to sing in Karabakh music gatherings. When he was 20 years old, he participated in parties with the tarzen Grikor, the accordion player Isi Bey, and sang \"Karabakh Shikastasi\" in his own way.\n",
      "In 1913, Mammadgulu, who was invited to Kyiv by the \"Ekstrafon\" joint stock company together with Shakili Alasgar, Kechachioghlu Muhammed, Islam Abdullayev, Seyid Shushinski, accompanied by tarzen Arsen Yaramishev and kamancha player Moses Quliyans, recorded the mughams \"Bayati-Kurd\", \"Zabul-Segah\", \"Kurdu-Shahnaz\", \"Qatar\", \"Hasar\", \"Mukhalif\", \"Karabakh Shikastasi, \"Heyrati\" and \"Akhsham oldu\" classification on the gramophone shafts.\n",
      "Khananda Mammadgulu Shushinski died in March 1929 in Shusha at the age of 55.\n",
      "\n",
      "\n",
      "== References ==\n",
      "</Document>\n"
     ]
    }
   ],
   "source": [
    "formatted_wiki_docs = (\n",
    "    '\\n\\n---\\n\\n'.join(\n",
    "        f'<Document href=\"{doc.metadata[\"source\"]}\">\\n{doc.page_content}\\n</Document>'\n",
    "        for doc in docs\n",
    "    )\n",
    ")\n",
    "print(formatted_wiki_docs)"
   ]
  },
  {
   "cell_type": "code",
   "execution_count": 14,
   "metadata": {},
   "outputs": [],
   "source": [
    "# Test Tavily Search Results tool\n",
    "from langchain_community.tools import TavilySearchResults\n",
    "\n",
    "tool = TavilySearchResults(max_results=3)\n",
    "result_docs = tool.invoke(\"Tarzen\")\n"
   ]
  },
  {
   "cell_type": "code",
   "execution_count": 18,
   "metadata": {},
   "outputs": [
    {
     "name": "stdout",
     "output_type": "stream",
     "text": [
      "<Document href=\"https://en.wikipedia.org/wiki/Tarzan_(book_series)\">\n",
      "Tarzan is a series of 24 adventure novels written by Edgar Rice Burroughs (1875-1950) and published between 1912 and 1966, followed by several novels either co-written by Burroughs, or officially authorized by his estate. There are also two works written by Burroughs especially for children that are not considered part of the main series. The series is considered a classic of literature and\n",
      "</Document>\n",
      "\n",
      "---\n",
      "\n",
      "<Document href=\"https://en.wikipedia.org/wiki/Tarzan_(1999_film)\">\n",
      "Tarzan is a 1999 American animated coming-of-age [3] adventure comedy-drama film produced by Walt Disney Feature Animation and released by Walt Disney Pictures. It is based on the 1912 story Tarzan of the Apes by Edgar Rice Burroughs, being the first animated major motion picture version of the story.\n",
      "</Document>\n",
      "\n",
      "---\n",
      "\n",
      "<Document href=\"https://en.wikipedia.org/wiki/Tarzan\">\n",
      "Tarzan is the son of a British lord and lady who were marooned on the coast of Africa by mutineers. When Tarzan was an infant, his mother died, and his father was killed by Kerchak, leader of the ape tribe by whom Tarzan was adopted. Soon after his parents' death, Tarzan became a feral child, and his tribe of apes is known as the Mangani, great apes of a species unknown to science. Kala is his\n",
      "</Document>\n"
     ]
    }
   ],
   "source": [
    "formatted_docs = \"\\n\\n---\\n\\n\".join(\n",
    "    [\n",
    "        f'<Document href=\"{doc[\"url\"]}\">\\n{doc[\"content\"]}\\n</Document>'\n",
    "        for doc in result_docs\n",
    "    ]\n",
    ")\n",
    "print(formatted_docs)"
   ]
  },
  {
   "cell_type": "markdown",
   "metadata": {},
   "source": [
    "#### Build agents"
   ]
  },
  {
   "cell_type": "code",
   "execution_count": 84,
   "metadata": {},
   "outputs": [],
   "source": [
    "# Define Schema\n",
    "import operator\n",
    "from typing import Annotated, TypedDict\n",
    "\n",
    "class State(TypedDict):\n",
    "    question : str\n",
    "    answer : str\n",
    "    context : Annotated[list[str], operator.add]"
   ]
  },
  {
   "cell_type": "code",
   "execution_count": 87,
   "metadata": {},
   "outputs": [],
   "source": [
    "# Tavily Agent\n",
    "\n",
    "def web_search(state):\n",
    "    \n",
    "    # Search\n",
    "    tavily_search = TavilySearchResults(max_results=3)\n",
    "    search_docs = tavily_search.invoke(state[\"question\"])\n",
    "\n",
    "    # Format\n",
    "    formatted_docs = \"\\n\\n---\\n\\n\".join(\n",
    "    [\n",
    "        f'<Document href=\"{doc[\"url\"]}\">\\n{doc[\"content\"]}\\n</Document>'\n",
    "        for doc in search_docs\n",
    "    ])\n",
    "\n",
    "    return {\"context\":[formatted_docs]}\n"
   ]
  },
  {
   "cell_type": "code",
   "execution_count": 88,
   "metadata": {},
   "outputs": [],
   "source": [
    "# Wikipedia Agent\n",
    "\n",
    "def wiki_search(state):\n",
    "    \n",
    "    # Search\n",
    "    wiki_search = WikipediaLoader(state[\"question\"],load_max_docs=3)\n",
    "    search_docs = wiki_search.load()\n",
    "\n",
    "    # Format\n",
    "    formatted_wiki_docs = (\n",
    "    '\\n\\n---\\n\\n'.join(\n",
    "        f'<Document href=\"{doc.metadata[\"source\"]}\">\\n{doc.page_content}\\n</Document>'\n",
    "        for doc in search_docs\n",
    "    )\n",
    "    )\n",
    "\n",
    "    return {\"context\":[formatted_wiki_docs]}\n",
    "    "
   ]
  },
  {
   "cell_type": "code",
   "execution_count": 81,
   "metadata": {},
   "outputs": [],
   "source": [
    "# LLM node\n",
    "\n",
    "def generate_answer(state):\n",
    "    \n",
    "    context = state[\"context\"]\n",
    "    question = state[\"question\"]\n",
    "\n",
    "    # Template\n",
    "    answer_template = f\"\"\"\n",
    "        Answer the following question using the provided context only,\n",
    "        Question: {question}\n",
    "        Context: {context}\n",
    "        Answer:\n",
    "    \"\"\"\n",
    "\n",
    "    # Answer\n",
    "    answer = llm.invoke([\n",
    "        SystemMessage(content=\"You are a helpful assistant.\"),\n",
    "        HumanMessage(content=answer_template)\n",
    "    ])\n",
    "\n",
    "    return {\"answer\":answer}\n",
    "\n"
   ]
  },
  {
   "cell_type": "code",
   "execution_count": 89,
   "metadata": {},
   "outputs": [
    {
     "data": {
      "image/png": "[encoded data removed]",
      "text/plain": [
       "<IPython.core.display.Image object>"
      ]
     },
     "metadata": {},
     "output_type": "display_data"
    }
   ],
   "source": [
    "from langgraph.graph import StateGraph, START, END\n",
    "from IPython.display import display, Image\n",
    "from langgraph.checkpoint.memory import MemorySaver\n",
    "\n",
    "builder = StateGraph(State)\n",
    "\n",
    "builder.add_node(\"web_search\",web_search)\n",
    "builder.add_node(\"wiki_search\",wiki_search)\n",
    "builder.add_node(\"assistant\",generate_answer)\n",
    "\n",
    "builder.add_edge(START, \"web_search\")\n",
    "builder.add_edge(START, \"wiki_search\")\n",
    "builder.add_edge(\"web_search\",\"assistant\")\n",
    "builder.add_edge(\"wiki_search\",\"assistant\")\n",
    "builder.add_edge(\"assistant\",END)\n",
    "\n",
    "checkpointer = MemorySaver()\n",
    "\n",
    "graph = builder.compile(checkpointer=checkpointer)\n",
    "\n",
    "display(Image(graph.get_graph().draw_mermaid_png()))"
   ]
  },
  {
   "cell_type": "code",
   "execution_count": null,
   "metadata": {},
   "outputs": [
    {
     "data": {
      "text/plain": [
       "'Based on the provided text, the strongest Pokémon is a matter of debate and depends on the criteria used.  Several Pokémon are mentioned as contenders for the title of strongest, including Mewtwo (with a base stat of 780 when Mega-Evolved, tying with Mega Rayquaza and Eternamax Eternatus),  Arceus, Rayquaza, and Giratina.  The text also states that determining the strongest Pokémon involves considering stats, moves, and lore.'"
      ]
     },
     "execution_count": 92,
     "metadata": {},
     "output_type": "execute_result"
    }
   ],
   "source": [
    "question = \"Which is the strongest pokemon?\"\n",
    "\n",
    "thread = {\n",
    "    \"configurable\":{\n",
    "        \"thread_id\":\"3\"\n",
    "    }\n",
    "}\n",
    "\n",
    "response = graph.invoke({\"question\":question},config=thread)\n"
   ]
  },
  {
   "cell_type": "code",
   "execution_count": 93,
   "metadata": {},
   "outputs": [
    {
     "name": "stdout",
     "output_type": "stream",
     "text": [
      "Based on the provided text, the strongest Pokémon is a matter of debate and depends on the criteria used.  Several Pokémon are mentioned as contenders for the title of strongest, including Mewtwo (with a base stat of 780 when Mega-Evolved, tying with Mega Rayquaza and Eternamax Eternatus),  Arceus, Rayquaza, and Giratina.  The text also states that determining the strongest Pokémon involves considering stats, moves, and lore.\n"
     ]
    }
   ],
   "source": [
    "print(response[\"answer\"].content)"
   ]
  },
  {
   "cell_type": "code",
   "execution_count": null,
   "metadata": {},
   "outputs": [],
   "source": []
  }
 ],
 "metadata": {
  "kernelspec": {
   "display_name": "langgraph",
   "language": "python",
   "name": "python3"
  },
  "language_info": {
   "codemirror_mode": {
    "name": "ipython",
    "version": 3
   },
   "file_extension": ".py",
   "mimetype": "text/x-python",
   "name": "python",
   "nbconvert_exporter": "python",
   "pygments_lexer": "ipython3",
   "version": "3.13.1"
  }
 },
 "nbformat": 4,
 "nbformat_minor": 2
}
