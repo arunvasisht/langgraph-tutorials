{
 "cells": [
  {
   "cell_type": "code",
   "execution_count": 4,
   "metadata": {},
   "outputs": [],
   "source": [
    "from langgraph.graph import StateGraph, START, END\n",
    "from langgraph.checkpoint.memory import MemorySaver\n",
    "from IPython.display import display, Image\n",
    "from typing import Annotated, TypedDict\n",
    "from operator import add"
   ]
  },
  {
   "cell_type": "code",
   "execution_count": 10,
   "metadata": {},
   "outputs": [],
   "source": [
    "# 1. Define Schema\n",
    "class State(TypedDict):\n",
    "    foo : int\n",
    "    bar : Annotated[list[str], add]\n",
    "\n",
    "# 2. Define Nodes\n",
    "def node_a(state:State):\n",
    "    print(\"---- Node A ----\")\n",
    "    return {\n",
    "        \"foo\":\"a\",\n",
    "        \"bar\":[\"a\"]\n",
    "    }\n",
    "def node_b(state:State):\n",
    "    print(\"---- Node B ----\")\n",
    "    return {\n",
    "        \"foo\":\"b\",\n",
    "        \"bar\":[\"b\"]\n",
    "    }"
   ]
  },
  {
   "cell_type": "code",
   "execution_count": 12,
   "metadata": {},
   "outputs": [
    {
     "data": {
      "image/png": "[encoded data removed]",
      "text/plain": [
       "<IPython.core.display.Image object>"
      ]
     },
     "metadata": {},
     "output_type": "display_data"
    }
   ],
   "source": [
    "# Define the graph\n",
    "builder = StateGraph(State)\n",
    "builder.add_node(node_a)\n",
    "builder.add_node(node_b)\n",
    "builder.add_edge(START,\"node_a\")\n",
    "builder.add_edge(\"node_a\",\"node_b\")\n",
    "builder.add_edge(\"node_b\",END)\n",
    "\n",
    "checkpointer = MemorySaver()\n",
    "\n",
    "graph = builder.compile(checkpointer=checkpointer)\n",
    "\n",
    "display(Image(graph.get_graph().draw_mermaid_png()))"
   ]
  },
  {
   "cell_type": "code",
   "execution_count": 42,
   "metadata": {},
   "outputs": [
    {
     "name": "stdout",
     "output_type": "stream",
     "text": [
      "---- Node A ----\n",
      "---- Node B ----\n"
     ]
    },
    {
     "data": {
      "text/plain": [
       "{'foo': 'b', 'bar': ['a', 'b', 'a', 'b']}"
      ]
     },
     "execution_count": 42,
     "metadata": {},
     "output_type": "execute_result"
    }
   ],
   "source": [
    "config = {\"configurable\":{\"thread_id\":2}}\n",
    "graph.invoke({\"foo\":\"\"}, config=config)"
   ]
  },
  {
   "cell_type": "code",
   "execution_count": 41,
   "metadata": {},
   "outputs": [
    {
     "name": "stdout",
     "output_type": "stream",
     "text": [
      "StateSnapshot(values={}, next=(), config={'configurable': {'thread_id': '2', 'checkpoint_id': '0c62ca34-ac19-445d-bbb0-5b4984975b2a'}}, metadata=None, created_at=None, parent_config=None, tasks=())\n"
     ]
    }
   ],
   "source": [
    "# See the current state\n",
    "print(graph.get_state(config=config))"
   ]
  },
  {
   "cell_type": "code",
   "execution_count": 47,
   "metadata": {},
   "outputs": [
    {
     "name": "stdout",
     "output_type": "stream",
     "text": [
      "StateSnapshot(values={'foo': 'b', 'bar': ['a', 'b', 'a', 'b']}, next=(), config={'configurable': {'thread_id': 2, 'checkpoint_ns': '', 'checkpoint_id': '1efd8934-0ef8-6605-8006-fc43c9ef5733'}}, metadata={'source': 'loop', 'writes': {'node_b': {'foo': 'b', 'bar': ['b']}}, 'thread_id': 2, 'step': 6, 'parents': {}}, created_at='2025-01-22T07:34:03.300592+00:00', parent_config={'configurable': {'thread_id': 2, 'checkpoint_ns': '', 'checkpoint_id': '1efd8934-0ef6-63a5-8005-d78e3dc6c7ab'}}, tasks=())\n",
      "StateSnapshot(values={'foo': 'a', 'bar': ['a', 'b', 'a']}, next=('node_b',), config={'configurable': {'thread_id': 2, 'checkpoint_ns': '', 'checkpoint_id': '1efd8934-0ef6-63a5-8005-d78e3dc6c7ab'}}, metadata={'source': 'loop', 'writes': {'node_a': {'foo': 'a', 'bar': ['a']}}, 'thread_id': 2, 'step': 5, 'parents': {}}, created_at='2025-01-22T07:34:03.299712+00:00', parent_config={'configurable': {'thread_id': 2, 'checkpoint_ns': '', 'checkpoint_id': '1efd8934-0ef3-6ce5-8004-35eaf8b6f959'}}, tasks=(PregelTask(id='3801d7db-fd74-e9b1-6a80-46b7c10eabe1', name='node_b', path=('__pregel_pull', 'node_b'), error=None, interrupts=(), state=None, result={'foo': 'b', 'bar': ['b']}),))\n",
      "StateSnapshot(values={'foo': '', 'bar': ['a', 'b']}, next=('node_a',), config={'configurable': {'thread_id': 2, 'checkpoint_ns': '', 'checkpoint_id': '1efd8934-0ef3-6ce5-8004-35eaf8b6f959'}}, metadata={'source': 'loop', 'writes': None, 'thread_id': 2, 'step': 4, 'parents': {}}, created_at='2025-01-22T07:34:03.298719+00:00', parent_config={'configurable': {'thread_id': 2, 'checkpoint_ns': '', 'checkpoint_id': '1efd8934-0ef1-61f5-8003-25341703bdc3'}}, tasks=(PregelTask(id='bd064ca2-3f70-c108-9466-6738f826a145', name='node_a', path=('__pregel_pull', 'node_a'), error=None, interrupts=(), state=None, result={'foo': 'a', 'bar': ['a']}),))\n",
      "StateSnapshot(values={'foo': 'b', 'bar': ['a', 'b']}, next=('__start__',), config={'configurable': {'thread_id': 2, 'checkpoint_ns': '', 'checkpoint_id': '1efd8934-0ef1-61f5-8003-25341703bdc3'}}, metadata={'source': 'input', 'writes': {'__start__': {'foo': ''}}, 'thread_id': 2, 'step': 3, 'parents': {}}, created_at='2025-01-22T07:34:03.297621+00:00', parent_config={'configurable': {'thread_id': 2, 'checkpoint_ns': '', 'checkpoint_id': '1efd892d-4a9a-631d-8002-64ead1334176'}}, tasks=(PregelTask(id='5f8283b7-bfc9-746c-8db7-102ffa7e11b1', name='__start__', path=('__pregel_pull', '__start__'), error=None, interrupts=(), state=None, result={'foo': ''}),))\n",
      "StateSnapshot(values={'foo': 'b', 'bar': ['a', 'b']}, next=(), config={'configurable': {'thread_id': 2, 'checkpoint_ns': '', 'checkpoint_id': '1efd892d-4a9a-631d-8002-64ead1334176'}}, metadata={'source': 'loop', 'writes': {'node_b': {'foo': 'b', 'bar': ['b']}}, 'thread_id': 2, 'step': 2, 'parents': {}}, created_at='2025-01-22T07:31:01.648652+00:00', parent_config={'configurable': {'thread_id': 2, 'checkpoint_ns': '', 'checkpoint_id': '1efd892d-4a98-67c6-8001-7a6e38bb28b7'}}, tasks=())\n",
      "StateSnapshot(values={'foo': 'a', 'bar': ['a']}, next=('node_b',), config={'configurable': {'thread_id': 2, 'checkpoint_ns': '', 'checkpoint_id': '1efd892d-4a98-67c6-8001-7a6e38bb28b7'}}, metadata={'source': 'loop', 'writes': {'node_a': {'foo': 'a', 'bar': ['a']}}, 'thread_id': 2, 'step': 1, 'parents': {}}, created_at='2025-01-22T07:31:01.647953+00:00', parent_config={'configurable': {'thread_id': 2, 'checkpoint_ns': '', 'checkpoint_id': '1efd892d-4a96-6a1e-8000-3ca3e01fcc96'}}, tasks=(PregelTask(id='034bab82-c05d-fd62-20aa-b868e8baee9f', name='node_b', path=('__pregel_pull', 'node_b'), error=None, interrupts=(), state=None, result={'foo': 'b', 'bar': ['b']}),))\n",
      "StateSnapshot(values={'foo': '', 'bar': []}, next=('node_a',), config={'configurable': {'thread_id': 2, 'checkpoint_ns': '', 'checkpoint_id': '1efd892d-4a96-6a1e-8000-3ca3e01fcc96'}}, metadata={'source': 'loop', 'writes': None, 'thread_id': 2, 'step': 0, 'parents': {}}, created_at='2025-01-22T07:31:01.647194+00:00', parent_config={'configurable': {'thread_id': 2, 'checkpoint_ns': '', 'checkpoint_id': '1efd892d-4a94-6063-bfff-6f6e0209fdc1'}}, tasks=(PregelTask(id='35e3d0f3-e1ba-7c3b-fda5-121f93faf444', name='node_a', path=('__pregel_pull', 'node_a'), error=None, interrupts=(), state=None, result={'foo': 'a', 'bar': ['a']}),))\n",
      "StateSnapshot(values={'bar': []}, next=('__start__',), config={'configurable': {'thread_id': 2, 'checkpoint_ns': '', 'checkpoint_id': '1efd892d-4a94-6063-bfff-6f6e0209fdc1'}}, metadata={'source': 'input', 'writes': {'__start__': {'foo': ''}}, 'thread_id': 2, 'step': -1, 'parents': {}}, created_at='2025-01-22T07:31:01.646134+00:00', parent_config=None, tasks=(PregelTask(id='934f25a5-cda3-23be-c93d-197bcbb85b98', name='__start__', path=('__pregel_pull', '__start__'), error=None, interrupts=(), state=None, result={'foo': ''}),))\n"
     ]
    }
   ],
   "source": [
    "# see the state history\n",
    "for state in (graph.get_state_history(config={\"configurable\":{\"thread_id\":2}})):\n",
    "    print(state)"
   ]
  },
  {
   "cell_type": "code",
   "execution_count": 44,
   "metadata": {},
   "outputs": [
    {
     "data": {
      "text/plain": [
       "{'foo': 'b', 'bar': ['a', 'b']}"
      ]
     },
     "execution_count": 44,
     "metadata": {},
     "output_type": "execute_result"
    }
   ],
   "source": [
    "# replay graph execution upto a specific checkpoint id\n",
    "config = {'configurable': {'thread_id': 2, 'checkpoint_id': '1efd892d-4a9a-631d-8002-64ead1334176'}}\n",
    "graph.invoke(None, config=config)"
   ]
  },
  {
   "cell_type": "code",
   "execution_count": 46,
   "metadata": {},
   "outputs": [
    {
     "ename": "EmptyInputError",
     "evalue": "Received no input for __start__",
     "output_type": "error",
     "traceback": [
      "\u001b[1;31m---------------------------------------------------------------------------\u001b[0m",
      "\u001b[1;31mEmptyInputError\u001b[0m                           Traceback (most recent call last)",
      "Cell \u001b[1;32mIn[46], line 2\u001b[0m\n\u001b[0;32m      1\u001b[0m config \u001b[38;5;241m=\u001b[39m {\u001b[38;5;124m\"\u001b[39m\u001b[38;5;124mconfigurable\u001b[39m\u001b[38;5;124m\"\u001b[39m:{\u001b[38;5;124m\"\u001b[39m\u001b[38;5;124mthread_id\u001b[39m\u001b[38;5;124m\"\u001b[39m:\u001b[38;5;241m3\u001b[39m}}\n\u001b[1;32m----> 2\u001b[0m \u001b[43mgraph\u001b[49m\u001b[38;5;241;43m.\u001b[39;49m\u001b[43minvoke\u001b[49m\u001b[43m(\u001b[49m\u001b[38;5;28;43;01mNone\u001b[39;49;00m\u001b[43m,\u001b[49m\u001b[43m \u001b[49m\u001b[43mconfig\u001b[49m\u001b[38;5;241;43m=\u001b[39;49m\u001b[43mconfig\u001b[49m\u001b[43m)\u001b[49m\n",
      "File \u001b[1;32mc:\\Users\\Arun\\miniconda3\\envs\\langgraph\\Lib\\site-packages\\langgraph\\pregel\\__init__.py:1940\u001b[0m, in \u001b[0;36mPregel.invoke\u001b[1;34m(self, input, config, stream_mode, output_keys, interrupt_before, interrupt_after, debug, **kwargs)\u001b[0m\n\u001b[0;32m   1938\u001b[0m \u001b[38;5;28;01melse\u001b[39;00m:\n\u001b[0;32m   1939\u001b[0m     chunks \u001b[38;5;241m=\u001b[39m []\n\u001b[1;32m-> 1940\u001b[0m \u001b[43m\u001b[49m\u001b[38;5;28;43;01mfor\u001b[39;49;00m\u001b[43m \u001b[49m\u001b[43mchunk\u001b[49m\u001b[43m \u001b[49m\u001b[38;5;129;43;01min\u001b[39;49;00m\u001b[43m \u001b[49m\u001b[38;5;28;43mself\u001b[39;49m\u001b[38;5;241;43m.\u001b[39;49m\u001b[43mstream\u001b[49m\u001b[43m(\u001b[49m\n\u001b[0;32m   1941\u001b[0m \u001b[43m    \u001b[49m\u001b[38;5;28;43minput\u001b[39;49m\u001b[43m,\u001b[49m\n\u001b[0;32m   1942\u001b[0m \u001b[43m    \u001b[49m\u001b[43mconfig\u001b[49m\u001b[43m,\u001b[49m\n\u001b[0;32m   1943\u001b[0m \u001b[43m    \u001b[49m\u001b[43mstream_mode\u001b[49m\u001b[38;5;241;43m=\u001b[39;49m\u001b[43mstream_mode\u001b[49m\u001b[43m,\u001b[49m\n\u001b[0;32m   1944\u001b[0m \u001b[43m    \u001b[49m\u001b[43moutput_keys\u001b[49m\u001b[38;5;241;43m=\u001b[39;49m\u001b[43moutput_keys\u001b[49m\u001b[43m,\u001b[49m\n\u001b[0;32m   1945\u001b[0m \u001b[43m    \u001b[49m\u001b[43minterrupt_before\u001b[49m\u001b[38;5;241;43m=\u001b[39;49m\u001b[43minterrupt_before\u001b[49m\u001b[43m,\u001b[49m\n\u001b[0;32m   1946\u001b[0m \u001b[43m    \u001b[49m\u001b[43minterrupt_after\u001b[49m\u001b[38;5;241;43m=\u001b[39;49m\u001b[43minterrupt_after\u001b[49m\u001b[43m,\u001b[49m\n\u001b[0;32m   1947\u001b[0m \u001b[43m    \u001b[49m\u001b[43mdebug\u001b[49m\u001b[38;5;241;43m=\u001b[39;49m\u001b[43mdebug\u001b[49m\u001b[43m,\u001b[49m\n\u001b[0;32m   1948\u001b[0m \u001b[43m    \u001b[49m\u001b[38;5;241;43m*\u001b[39;49m\u001b[38;5;241;43m*\u001b[39;49m\u001b[43mkwargs\u001b[49m\u001b[43m,\u001b[49m\n\u001b[0;32m   1949\u001b[0m \u001b[43m\u001b[49m\u001b[43m)\u001b[49m\u001b[43m:\u001b[49m\n\u001b[0;32m   1950\u001b[0m \u001b[43m    \u001b[49m\u001b[38;5;28;43;01mif\u001b[39;49;00m\u001b[43m \u001b[49m\u001b[43mstream_mode\u001b[49m\u001b[43m \u001b[49m\u001b[38;5;241;43m==\u001b[39;49m\u001b[43m \u001b[49m\u001b[38;5;124;43m\"\u001b[39;49m\u001b[38;5;124;43mvalues\u001b[39;49m\u001b[38;5;124;43m\"\u001b[39;49m\u001b[43m:\u001b[49m\n\u001b[0;32m   1951\u001b[0m \u001b[43m        \u001b[49m\u001b[43mlatest\u001b[49m\u001b[43m \u001b[49m\u001b[38;5;241;43m=\u001b[39;49m\u001b[43m \u001b[49m\u001b[43mchunk\u001b[49m\n",
      "File \u001b[1;32mc:\\Users\\Arun\\miniconda3\\envs\\langgraph\\Lib\\site-packages\\langgraph\\pregel\\__init__.py:1659\u001b[0m, in \u001b[0;36mPregel.stream\u001b[1;34m(self, input, config, stream_mode, output_keys, interrupt_before, interrupt_after, debug, subgraphs)\u001b[0m\n\u001b[0;32m   1653\u001b[0m     get_waiter \u001b[38;5;241m=\u001b[39m \u001b[38;5;28;01mNone\u001b[39;00m  \u001b[38;5;66;03m# type: ignore[assignment]\u001b[39;00m\n\u001b[0;32m   1654\u001b[0m \u001b[38;5;66;03m# Similarly to Bulk Synchronous Parallel / Pregel model\u001b[39;00m\n\u001b[0;32m   1655\u001b[0m \u001b[38;5;66;03m# computation proceeds in steps, while there are channel updates\u001b[39;00m\n\u001b[0;32m   1656\u001b[0m \u001b[38;5;66;03m# channel updates from step N are only visible in step N+1\u001b[39;00m\n\u001b[0;32m   1657\u001b[0m \u001b[38;5;66;03m# channels are guaranteed to be immutable for the duration of the step,\u001b[39;00m\n\u001b[0;32m   1658\u001b[0m \u001b[38;5;66;03m# with channel updates applied only at the transition between steps\u001b[39;00m\n\u001b[1;32m-> 1659\u001b[0m \u001b[38;5;28;01mwhile\u001b[39;00m \u001b[43mloop\u001b[49m\u001b[38;5;241;43m.\u001b[39;49m\u001b[43mtick\u001b[49m\u001b[43m(\u001b[49m\u001b[43minput_keys\u001b[49m\u001b[38;5;241;43m=\u001b[39;49m\u001b[38;5;28;43mself\u001b[39;49m\u001b[38;5;241;43m.\u001b[39;49m\u001b[43minput_channels\u001b[49m\u001b[43m)\u001b[49m:\n\u001b[0;32m   1660\u001b[0m     \u001b[38;5;28;01mfor\u001b[39;00m _ \u001b[38;5;129;01min\u001b[39;00m runner\u001b[38;5;241m.\u001b[39mtick(\n\u001b[0;32m   1661\u001b[0m         loop\u001b[38;5;241m.\u001b[39mtasks\u001b[38;5;241m.\u001b[39mvalues(),\n\u001b[0;32m   1662\u001b[0m         timeout\u001b[38;5;241m=\u001b[39m\u001b[38;5;28mself\u001b[39m\u001b[38;5;241m.\u001b[39mstep_timeout,\n\u001b[1;32m   (...)\u001b[0m\n\u001b[0;32m   1665\u001b[0m     ):\n\u001b[0;32m   1666\u001b[0m         \u001b[38;5;66;03m# emit output\u001b[39;00m\n\u001b[0;32m   1667\u001b[0m         \u001b[38;5;28;01myield from\u001b[39;00m output()\n",
      "File \u001b[1;32mc:\\Users\\Arun\\miniconda3\\envs\\langgraph\\Lib\\site-packages\\langgraph\\pregel\\loop.py:367\u001b[0m, in \u001b[0;36mPregelLoop.tick\u001b[1;34m(self, input_keys)\u001b[0m\n\u001b[0;32m    364\u001b[0m     \u001b[38;5;28;01mraise\u001b[39;00m \u001b[38;5;167;01mRuntimeError\u001b[39;00m(\u001b[38;5;124m\"\u001b[39m\u001b[38;5;124mCannot tick when status is no longer \u001b[39m\u001b[38;5;124m'\u001b[39m\u001b[38;5;124mpending\u001b[39m\u001b[38;5;124m'\u001b[39m\u001b[38;5;124m\"\u001b[39m)\n\u001b[0;32m    366\u001b[0m \u001b[38;5;28;01mif\u001b[39;00m \u001b[38;5;28mself\u001b[39m\u001b[38;5;241m.\u001b[39minput \u001b[38;5;129;01mnot\u001b[39;00m \u001b[38;5;129;01min\u001b[39;00m (INPUT_DONE, INPUT_RESUMING):\n\u001b[1;32m--> 367\u001b[0m     \u001b[38;5;28;43mself\u001b[39;49m\u001b[38;5;241;43m.\u001b[39;49m\u001b[43m_first\u001b[49m\u001b[43m(\u001b[49m\u001b[43minput_keys\u001b[49m\u001b[38;5;241;43m=\u001b[39;49m\u001b[43minput_keys\u001b[49m\u001b[43m)\u001b[49m\n\u001b[0;32m    368\u001b[0m \u001b[38;5;28;01melif\u001b[39;00m \u001b[38;5;28mself\u001b[39m\u001b[38;5;241m.\u001b[39mto_interrupt:\n\u001b[0;32m    369\u001b[0m     \u001b[38;5;66;03m# if we need to interrupt, do so\u001b[39;00m\n\u001b[0;32m    370\u001b[0m     \u001b[38;5;28mself\u001b[39m\u001b[38;5;241m.\u001b[39mstatus \u001b[38;5;241m=\u001b[39m \u001b[38;5;124m\"\u001b[39m\u001b[38;5;124minterrupt_before\u001b[39m\u001b[38;5;124m\"\u001b[39m\n",
      "File \u001b[1;32mc:\\Users\\Arun\\miniconda3\\envs\\langgraph\\Lib\\site-packages\\langgraph\\pregel\\loop.py:611\u001b[0m, in \u001b[0;36mPregelLoop._first\u001b[1;34m(self, input_keys)\u001b[0m\n\u001b[0;32m    609\u001b[0m     \u001b[38;5;28mself\u001b[39m\u001b[38;5;241m.\u001b[39m_put_checkpoint({\u001b[38;5;124m\"\u001b[39m\u001b[38;5;124msource\u001b[39m\u001b[38;5;124m\"\u001b[39m: \u001b[38;5;124m\"\u001b[39m\u001b[38;5;124minput\u001b[39m\u001b[38;5;124m\"\u001b[39m, \u001b[38;5;124m\"\u001b[39m\u001b[38;5;124mwrites\u001b[39m\u001b[38;5;124m\"\u001b[39m: \u001b[38;5;28mdict\u001b[39m(input_writes)})\n\u001b[0;32m    610\u001b[0m \u001b[38;5;28;01melif\u001b[39;00m CONFIG_KEY_RESUMING \u001b[38;5;129;01mnot\u001b[39;00m \u001b[38;5;129;01min\u001b[39;00m configurable:\n\u001b[1;32m--> 611\u001b[0m     \u001b[38;5;28;01mraise\u001b[39;00m EmptyInputError(\u001b[38;5;124mf\u001b[39m\u001b[38;5;124m\"\u001b[39m\u001b[38;5;124mReceived no input for \u001b[39m\u001b[38;5;132;01m{\u001b[39;00minput_keys\u001b[38;5;132;01m}\u001b[39;00m\u001b[38;5;124m\"\u001b[39m)\n\u001b[0;32m    612\u001b[0m \u001b[38;5;66;03m# done with input\u001b[39;00m\n\u001b[0;32m    613\u001b[0m \u001b[38;5;28mself\u001b[39m\u001b[38;5;241m.\u001b[39minput \u001b[38;5;241m=\u001b[39m INPUT_RESUMING \u001b[38;5;28;01mif\u001b[39;00m is_resuming \u001b[38;5;28;01melse\u001b[39;00m INPUT_DONE\n",
      "\u001b[1;31mEmptyInputError\u001b[0m: Received no input for __start__"
     ]
    }
   ],
   "source": [
    "config = {\"configurable\":{\"thread_id\":3}}\n",
    "graph.invoke({\"foo\":\"\"}, config=config)"
   ]
  },
  {
   "cell_type": "code",
   "execution_count": null,
   "metadata": {},
   "outputs": [],
   "source": []
  }
 ],
 "metadata": {
  "kernelspec": {
   "display_name": "langgraph",
   "language": "python",
   "name": "python3"
  },
  "language_info": {
   "codemirror_mode": {
    "name": "ipython",
    "version": 3
   },
   "file_extension": ".py",
   "mimetype": "text/x-python",
   "name": "python",
   "nbconvert_exporter": "python",
   "pygments_lexer": "ipython3",
   "version": "3.13.1"
  }
 },
 "nbformat": 4,
 "nbformat_minor": 2
}
